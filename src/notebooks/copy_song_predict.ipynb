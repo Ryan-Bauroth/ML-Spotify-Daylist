{
 "cells": [
  {
   "cell_type": "code",
   "id": "initial_id",
   "metadata": {
    "collapsed": true,
    "ExecuteTime": {
     "end_time": "2024-09-20T17:54:41.513863Z",
     "start_time": "2024-09-20T17:54:40.467168Z"
    }
   },
   "source": [
    "from sklearn.preprocessing import MultiLabelBinarizer\n",
    "from src.python_files.spotify_helper import get_genres\n",
    "import pandas as pd\n",
    "\n",
    "# Reading data from a CSV file\n",
    "data = pd.read_csv('../data.csv')[:-10]\n",
    "\n",
    "data[\"popularity\"] = data[\"popularity\"].apply(lambda pop: pop/100)\n",
    "data[\"tempo\"] = data[\"tempo\"].apply(lambda tpo: tpo/100)\n",
    "data[\"loudness\"] = data[\"loudness\"].apply(lambda ldn: ldn/40)\n",
    "data[\"popularity\"] = data[\"popularity\"].fillna(data[\"popularity\"].median())\n",
    "data[\"genres\"] = data[\"genres\"].fillna(\"\")\n",
    "data[\"genres\"] = data[\"genres\"].str.split(\".\")\n",
    "\n",
    "df = pd.DataFrame(data)\n",
    "\n",
    "df = df.drop(columns=['songname','artist', 'id'])\n",
    "\n",
    "# Define input features and target variables\n",
    "features = df[['time', 'dayofweek', 'month', 'temp']]\n",
    "targets = df.drop(columns=['time', 'dayofweek', 'month', 'temp', 'genres'])\n",
    "\n",
    "spotify_genre_seeds = get_genres()['genres']\n",
    "\n",
    "for idx in range(len(data['genres'])):\n",
    "    song_genres = data['genres'][idx]\n",
    "    simplified_song_genres = []\n",
    "    for song_genre in song_genres:\n",
    "        for genre in spotify_genre_seeds:\n",
    "            if genre in song_genre:\n",
    "                simplified_song_genres.append(genre)\n",
    "    data.at[idx, 'genres'] = simplified_song_genres"
   ],
   "outputs": [],
   "execution_count": 1
  },
  {
   "metadata": {
    "ExecuteTime": {
     "end_time": "2024-09-20T17:54:46.164202Z",
     "start_time": "2024-09-20T17:54:41.517656Z"
    }
   },
   "cell_type": "code",
   "source": [
    "from src.python_files.num_predict import train_gradient_boosting_regressor\n",
    "from src.python_files.cat_predict import train_random_forest_classifier\n",
    "\n",
    "\n",
    "classifier_target = data['genres']\n",
    "\n",
    "mlb = MultiLabelBinarizer()\n",
    "classifier_target = mlb.fit_transform(classifier_target)\n",
    "\n",
    "classifier_target = pd.DataFrame(classifier_target, columns=mlb.classes_)\n",
    "\n",
    "model = train_random_forest_classifier(features, classifier_target)[0]\n",
    "\n",
    "features = pd.concat([features, classifier_target], axis=1)\n",
    "\n",
    "multi_output_gbr = train_gradient_boosting_regressor(features, targets)[0]"
   ],
   "id": "5f7a80a6ff17993f",
   "outputs": [],
   "execution_count": 2
  },
  {
   "metadata": {
    "ExecuteTime": {
     "end_time": "2024-09-20T17:54:46.327343Z",
     "start_time": "2024-09-20T17:54:46.265853Z"
    }
   },
   "cell_type": "code",
   "source": [
    "from src.python_files.record import get_weather_info, get_hour_info, get_weekday_info, get_month_info\n",
    "import nest_asyncio\n",
    "import asyncio\n",
    "\n",
    "nest_asyncio.apply()\n",
    "\n",
    "temp = float(asyncio.run(get_weather_info()))\n",
    "time = float(get_hour_info())\n",
    "day = float(get_weekday_info())\n",
    "month = float(get_month_info())"
   ],
   "id": "834a2bef5c81c153",
   "outputs": [],
   "execution_count": 3
  },
  {
   "metadata": {
    "ExecuteTime": {
     "end_time": "2024-09-20T17:54:46.514282Z",
     "start_time": "2024-09-20T17:54:46.351995Z"
    }
   },
   "cell_type": "code",
   "source": [
    "import numpy as np\n",
    "\n",
    "# time, dow, month, temp\n",
    "cat_predict_value = pd.DataFrame([[time, day, month, temp]], columns=[\"time\", \"dayofweek\", \"month\", \"temp\"])\n",
    "\n",
    "class_predict = model.predict(cat_predict_value)\n",
    "\n",
    "probabilities = model.predict_proba(cat_predict_value)\n",
    "\n",
    "genre_prediction = []\n",
    "# idx, value\n",
    "top_prob = [0, 0]\n",
    "\n",
    "for prob_idx in range(len(probabilities)):\n",
    "    if len(probabilities[prob_idx][0]) == 2 and probabilities[prob_idx][0][1] > .2:\n",
    "        genre_prediction.append(1)\n",
    "    else:\n",
    "        genre_prediction.append(0)\n",
    "            \n",
    "genre_prediction = np.array(genre_prediction).reshape(1, -1)\n",
    "\n",
    "genre_df = pd.DataFrame(genre_prediction, columns=mlb.classes_)\n",
    "\n",
    "num_predict_value = pd.concat([pd.DataFrame([[time, day, month, temp]], columns=[\"time\", \"dayofweek\", \"month\", \"temp\"]), genre_df], axis=1)\n",
    "    \n",
    "# Make predictions\n",
    "y_pred = multi_output_gbr.predict(num_predict_value)\n",
    " \n",
    "print(mlb.inverse_transform(genre_prediction))\n"
   ],
   "id": "71212b1120c8bea2",
   "outputs": [
    {
     "name": "stdout",
     "output_type": "stream",
     "text": [
      "[('chill', 'indie', 'pop')]\n"
     ]
    }
   ],
   "execution_count": 4
  },
  {
   "metadata": {
    "ExecuteTime": {
     "end_time": "2024-09-20T17:54:46.892265Z",
     "start_time": "2024-09-20T17:54:46.543110Z"
    }
   },
   "cell_type": "code",
   "source": [
    "dataset = pd.read_csv('../dataset.csv')\n",
    "\n",
    "predicted_cols=['popularity', 'danceability', 'energy', 'loudness', 'speechiness', 'acousticness', 'instrumentalness', 'liveness', 'valence', 'tempo', 'duration_ms']\n",
    "\n",
    "ignore_cols = [\"duration_ms\", \"popularity\", \"loudness\"]\n",
    "\n",
    "prediction_weighting = [\n",
    "    1, #popularity\n",
    "    1, #danceability\n",
    "    1.5, #energy\n",
    "    0, #loudness\n",
    "    1, #speechiness\n",
    "    .9, #acousticness\n",
    "    .9, #instrumentalness\n",
    "    .1, #liveness\n",
    "    1.5, #valence\n",
    "    2.5, #tempo\n",
    "    1 #duration ms\n",
    "]\n",
    "\n",
    "# data = dataset\n",
    "# \n",
    "# dataset[\"popularity\"] = dataset[\"popularity\"].apply(lambda pop: pop/100)\n",
    "# dataset[\"tempo\"] = dataset[\"tempo\"].apply(lambda tpo: tpo/100)\n",
    "# dataset[\"loudness\"] = dataset[\"loudness\"].apply(lambda ldn: ldn/40)\n",
    "\n",
    "song_similarity_dict = {}\n",
    "\n",
    "def calc_similarity_ratings(data):\n",
    "        accuracy_score = 0\n",
    "        popularity_thresh = False\n",
    "        for col_idx in range(len(predicted_cols)):\n",
    "            if predicted_cols[col_idx] not in ignore_cols:\n",
    "                # need to figure out how to do this for best results\n",
    "                if (y_pred[0][col_idx] > .5 and data[predicted_cols[col_idx]][i] > .5) or (y_pred[0][col_idx] < .5 and data[predicted_cols[col_idx]][i] < .5):\n",
    "                    accuracy_score += abs(y_pred[0][col_idx] - data[predicted_cols[col_idx]][i]) * prediction_weighting[col_idx]\n",
    "                else:\n",
    "                    accuracy_score += abs(pow(y_pred[0][col_idx] - data[predicted_cols[col_idx]][i], 2)) * prediction_weighting[col_idx]  \n",
    "        if data[\"popularity\"][i] > y_pred[0][predicted_cols.index(\"popularity\")] - 10:\n",
    "            popularity_thresh = True\n",
    "        song_artists = data[\"artist\"][i]\n",
    "        \n",
    "        return accuracy_score, popularity_thresh, song_artists\n",
    "\n",
    "for i in range(len(data[\"songname\"])):\n",
    "    if data[\"songname\"][i] not in song_similarity_dict.keys():\n",
    "        accuracy_score, popularity_thresh, song_artists = calc_similarity_ratings(data)\n",
    "        song_similarity_dict[data[\"songname\"][i]] = {\"accuracy\" : accuracy_score, \"popularity\" : popularity_thresh, \"artists\" : song_artists, \"data_idx\" : i}\n",
    "    "
   ],
   "id": "e1cc8bcb98dfbdc9",
   "outputs": [],
   "execution_count": 5
  },
  {
   "metadata": {
    "ExecuteTime": {
     "end_time": "2024-09-20T17:54:46.949075Z",
     "start_time": "2024-09-20T17:54:46.946114Z"
    }
   },
   "cell_type": "code",
   "source": [
    "def get_closest_song(drop_score):\n",
    "    best_score = 10000\n",
    "    best_song_name = \"\"\n",
    "    best_artists_name = \"\"\n",
    "    \n",
    "    for songname in song_similarity_dict.keys():\n",
    "        \n",
    "        song = song_similarity_dict[songname]\n",
    "\n",
    "        if song[\"accuracy\"] < best_score and songname not in best_names and song[\"popularity\"] - 10:\n",
    "            best_score = song[\"accuracy\"]\n",
    "            best_song_name = songname\n",
    "            best_artists_name = song[\"artists\"]\n",
    "        \n",
    "    if best_score >= drop_score:\n",
    "        return \"DROP\", \"DROP\"\n",
    "    else:\n",
    "        return best_song_name, best_artists_name\n",
    "    "
   ],
   "id": "d43eda1ccc23e13e",
   "outputs": [],
   "execution_count": 6
  },
  {
   "metadata": {
    "ExecuteTime": {
     "end_time": "2024-09-20T17:54:47.008531Z",
     "start_time": "2024-09-20T17:54:47.001739Z"
    }
   },
   "cell_type": "code",
   "source": [
    "from src.python_files.spotify_helper import get_recs\n",
    "from src.python_files.record import get_spotify_audio_features\n",
    "\n",
    "drop_score = 1\n",
    "playlist_length = 50\n",
    "\n",
    "best_names = []\n",
    "best_artists = []\n",
    "\n",
    "top_song, top_artist = get_closest_song(drop_score)\n",
    "\n",
    "# if top_song != \"DROP\":\n",
    "#     recs = get_recs(top_song, top_artist)\n",
    "#     rec_data = []\n",
    "#     for rec in recs:\n",
    "#         print(get_spotify_audio_features({\"playback\" : rec}))\n",
    "    \n",
    "\"\"\"\n",
    "    danceability\n",
    "energy\n",
    "speechiness\n",
    "acousticness\n",
    "instrumentalness\n",
    "liveness\n",
    "valence\n",
    "tempo\n",
    "\"\"\"\n",
    "    \n",
    "\n",
    "for x in range(playlist_length):\n",
    "    best_song_name, best_artists_name = get_closest_song(drop_score)\n",
    "    \n",
    "    if best_song_name == \"DROP\":\n",
    "        break\n",
    "    \n",
    "    # print(best_song_name + \" score: \" + str(best_score) + \" by \" + song_similarity_dict[best_song_name][\"artists\"])\n",
    "\n",
    "    best_names.append(best_song_name)\n",
    "    best_artists.append(song_similarity_dict[best_song_name][\"artists\"])\n",
    "    \n",
    "print(best_names)\n",
    "# print(best_artists)"
   ],
   "id": "18717183930da5cc",
   "outputs": [
    {
     "name": "stdout",
     "output_type": "stream",
     "text": [
      "['Mirage', 'Time', 'Lost but Seeking', 'Motion Sickness', 'Far Away', 'CHIHIRO', 'Real Life', 'Worth It.', 'ilomilo', 'Re-Introduction', 'Ride', 'FAMJAM4000', 'Risk', 'Entropy', 'In My Life - Remastered 2009', 'Hush - Still Woozy Remix', 'Water Flow', 'Midma', 'Otro Atardecer', 'Musta Been a Ghost', 'Cariño', 'Roommates', 'Perhaps Something More', 'C U Girl', 'Paranoia', \"Let's Stay Together\", 'I/O Switch', 'Puzzle', 'Dead Weight', 'Heavy', 'Rare', 'No One Noticed', 'Amoeba', 'Underdressed at the Symphony', 'Leftovers', \"I've Been In Love\", 'The Bird Song', 'us. (feat. Taylor Swift)', 'Chateau', 'NITROUS', 'Close The Door', 'The Minimalist Method', 'Reckless & Sweet', 'Tonight', 'Tu Corazón Es Mío...', 'Bags', 'Sun City', 'PRICETAG/BEVERLYWOOD (with Lido)', \"That's Life\", 'HONDA']\n"
     ]
    }
   ],
   "execution_count": 7
  },
  {
   "metadata": {
    "ExecuteTime": {
     "end_time": "2024-09-20T17:54:56.605620Z",
     "start_time": "2024-09-20T17:54:47.061088Z"
    }
   },
   "cell_type": "code",
   "source": [
    "import os\n",
    "from dotenv import load_dotenv\n",
    "from src.python_files.spotify_helper import update_playlist\n",
    "\n",
    "load_dotenv()\n",
    "\n",
    "playlist_id = os.getenv('PLAYLIST_ID')\n",
    "update_playlist(best_names, best_artists, playlist_id)\n",
    "\n",
    "# update_playlist(best_names, best_artists)"
   ],
   "id": "ef929317fd8f70c5",
   "outputs": [],
   "execution_count": 8
  },
  {
   "metadata": {
    "ExecuteTime": {
     "end_time": "2024-09-20T17:54:56.681195Z",
     "start_time": "2024-09-20T17:54:56.660333Z"
    }
   },
   "cell_type": "code",
   "source": [
    "from tabulate import tabulate\n",
    "\n",
    "RED = \"\\033[91m\"\n",
    "GREEN = \"\\033[92m\"\n",
    "RESET = \"\\033[0m\"\n",
    "\n",
    "pred_act = [[\"track\", \"accuracy\"], [\"\", \"0\"]]\n",
    "\n",
    "for col_idx in range(len(predicted_cols)):\n",
    "    if predicted_cols[col_idx] not in ignore_cols:\n",
    "        pred_act[0].append(predicted_cols[col_idx])\n",
    "        pred_act[1].append(str(round(y_pred[0][col_idx], 3)))\n",
    "    \n",
    "outlier_dist = .07\n",
    "    \n",
    "for name in best_names:\n",
    "    r = song_similarity_dict[name][\"data_idx\"]\n",
    "    temp_arr = [round(song_similarity_dict[name][\"accuracy\"], 3)]\n",
    "    for c in predicted_cols:\n",
    "        if c not in ignore_cols:\n",
    "            cr_data = data[c][r]\n",
    "            if abs(float(pred_act[1][len(temp_arr) + 1]) - cr_data) < outlier_dist:\n",
    "                temp_arr.append(str(data[c][r]))\n",
    "            elif float(pred_act[1][len(temp_arr) + 1]) - cr_data > outlier_dist:\n",
    "                temp_arr.append(RED + str(data[c][r]) + RESET)\n",
    "            else:\n",
    "                temp_arr.append(GREEN + str(data[c][r]) + RESET)\n",
    "    temp_arr.insert(0, name[:20])\n",
    "    pred_act.append(temp_arr)\n",
    "        \n",
    "print(tabulate(pred_act, headers='firstrow', tablefmt='plain')) "
   ],
   "id": "b058c6a36d3a9520",
   "outputs": [
    {
     "name": "stdout",
     "output_type": "stream",
     "text": [
      "track                   accuracy    danceability    energy    speechiness    acousticness    instrumentalness    liveness    valence    tempo\n",
      "                           0               0.623     0.54          0.06           0.485              0.699         0.234       0.445  1.084\n",
      "Mirage                     0.507           0.683     \u001B[91m0.468\u001B[0m         0.0743         \u001B[92m0.87\u001B[0m               0.673         \u001B[91m0.108\u001B[0m       0.47   \u001B[92m1.17095\u001B[0m\n",
      "Time                       0.523           \u001B[92m0.849\u001B[0m     \u001B[91m0.431\u001B[0m         0.0542         0.444              \u001B[92m0.888\u001B[0m         \u001B[91m0.116\u001B[0m       \u001B[92m0.528\u001B[0m  1.1013\n",
      "Lost but Seeking           0.608           \u001B[92m0.698\u001B[0m     0.543         0.107          \u001B[92m0.703\u001B[0m              \u001B[92m0.918\u001B[0m         \u001B[91m0.103\u001B[0m       \u001B[91m0.349\u001B[0m  1.05058\n",
      "Motion Sickness            0.619           0.651     0.546         0.0357         \u001B[92m0.774\u001B[0m              \u001B[91m0.0437\u001B[0m        \u001B[91m0.0842\u001B[0m      \u001B[92m0.623\u001B[0m  1.07021\n",
      "Far Away                   0.634           0.669     \u001B[91m0.385\u001B[0m         0.0277         \u001B[92m0.572\u001B[0m              \u001B[92m0.925\u001B[0m         \u001B[91m0.111\u001B[0m       \u001B[92m0.375\u001B[0m  \u001B[92m1.16045\u001B[0m\n",
      "CHIHIRO                    0.638           \u001B[92m0.7\u001B[0m       \u001B[91m0.425\u001B[0m         0.0529         \u001B[91m0.144\u001B[0m              \u001B[92m0.879\u001B[0m         \u001B[91m0.083\u001B[0m       \u001B[92m0.521\u001B[0m  1.10015\n",
      "Real Life                  0.647           \u001B[92m0.783\u001B[0m     0.603         0.0265         0.521              \u001B[91m0.351\u001B[0m         \u001B[91m0.119\u001B[0m       \u001B[92m0.633\u001B[0m  \u001B[91m1.00994\u001B[0m\n",
      "Worth It.                  0.656           \u001B[92m0.736\u001B[0m     0.483         0.0682         0.505              \u001B[91m1.39e-05\u001B[0m      \u001B[92m0.351\u001B[0m       \u001B[92m0.606\u001B[0m  1.09932\n",
      "ilomilo                    0.682           \u001B[92m0.855\u001B[0m     \u001B[91m0.423\u001B[0m         0.0585         \u001B[92m0.724\u001B[0m              \u001B[91m0.469\u001B[0m         \u001B[91m0.0896\u001B[0m      \u001B[92m0.572\u001B[0m  \u001B[92m1.2002\u001B[0m\n",
      "Re-Introduction            0.684           0.633     \u001B[91m0.454\u001B[0m         0.0384         \u001B[91m0.159\u001B[0m              \u001B[92m0.942\u001B[0m         \u001B[91m0.152\u001B[0m       \u001B[92m0.6\u001B[0m    1.04992\n",
      "Ride                       0.712           0.649     \u001B[92m0.654\u001B[0m         0.0629         0.547              \u001B[92m0.822\u001B[0m         \u001B[91m0.0795\u001B[0m      \u001B[92m0.561\u001B[0m  \u001B[91m0.9396\u001B[0m\n",
      "FAMJAM4000                 0.722           \u001B[92m0.871\u001B[0m     0.57          0.0676         0.434              \u001B[91m0.452\u001B[0m         \u001B[91m0.145\u001B[0m       \u001B[92m0.711\u001B[0m  \u001B[92m1.16563\u001B[0m\n",
      "Risk                       0.724           \u001B[92m0.727\u001B[0m     0.491         0.0592         0.498              \u001B[91m0\u001B[0m             \u001B[91m0.133\u001B[0m       0.471  1.13027\n",
      "Entropy                    0.734           0.614     0.592         0.0325         \u001B[92m0.711\u001B[0m              \u001B[92m0.839\u001B[0m         \u001B[92m0.342\u001B[0m       \u001B[91m0.275\u001B[0m  \u001B[91m1.01102\u001B[0m\n",
      "In My Life - Remaste       0.737           0.688     \u001B[91m0.435\u001B[0m         0.0323         0.449              \u001B[91m0\u001B[0m             \u001B[91m0.113\u001B[0m       0.435  1.03239\n",
      "Hush - Still Woozy R       0.737           \u001B[92m0.708\u001B[0m     0.554         0.0311         \u001B[91m0.403\u001B[0m              \u001B[91m0.0428\u001B[0m        \u001B[91m0.126\u001B[0m       \u001B[92m0.564\u001B[0m  1.03999\n",
      "Water Flow                 0.74            \u001B[92m0.781\u001B[0m     \u001B[91m0.426\u001B[0m         0.0322         \u001B[92m0.592\u001B[0m              \u001B[91m0.571\u001B[0m         \u001B[91m0.109\u001B[0m       \u001B[91m0.237\u001B[0m  1.04981\n",
      "Midma                      0.746           \u001B[92m0.792\u001B[0m     0.511         0.0452         0.541              \u001B[92m0.915\u001B[0m         0.201       \u001B[92m0.519\u001B[0m  \u001B[91m0.95982\u001B[0m\n",
      "Otro Atardecer             0.747           \u001B[92m0.777\u001B[0m     0.595         0.0375         \u001B[92m0.59\u001B[0m               \u001B[91m0.00139\u001B[0m       \u001B[91m0.0669\u001B[0m      \u001B[92m0.546\u001B[0m  1.0802\n",
      "Musta Been a Ghost         0.749           \u001B[92m0.835\u001B[0m     0.546         0.0717         \u001B[92m0.599\u001B[0m              \u001B[91m0\u001B[0m             \u001B[91m0.0752\u001B[0m      \u001B[92m0.542\u001B[0m  1.07013\n",
      "Cariño                     0.752           0.646     \u001B[91m0.47\u001B[0m          0.0284         \u001B[91m0.4\u001B[0m                \u001B[91m0.0348\u001B[0m        \u001B[91m0.11\u001B[0m        \u001B[92m0.651\u001B[0m  1.13995\n",
      "Roommates                  0.773           \u001B[92m0.755\u001B[0m     \u001B[91m0.292\u001B[0m         0.0311         \u001B[92m0.619\u001B[0m              \u001B[91m1.34e-06\u001B[0m      \u001B[91m0.114\u001B[0m       0.437  1.10005\n",
      "Perhaps Something Mo       0.776           \u001B[92m0.754\u001B[0m     0.58          0.0386         0.454              \u001B[92m0.946\u001B[0m         \u001B[91m0.101\u001B[0m       \u001B[91m0.356\u001B[0m  1.15006\n",
      "C U Girl                   0.785           \u001B[91m0.414\u001B[0m     0.473         0.116          \u001B[92m0.663\u001B[0m              \u001B[91m0.0523\u001B[0m        \u001B[91m0.128\u001B[0m       0.409  \u001B[91m1\u001B[0m\n",
      "Paranoia                   0.788           0.688     \u001B[92m0.639\u001B[0m         0.0299         0.441              \u001B[91m0.5\u001B[0m           \u001B[91m0.0753\u001B[0m      \u001B[92m0.773\u001B[0m  \u001B[92m1.20039\u001B[0m\n",
      "Let's Stay Together        0.789           \u001B[92m0.756\u001B[0m     \u001B[91m0.401\u001B[0m         0.0526         \u001B[92m0.582\u001B[0m              \u001B[91m0.011\u001B[0m         \u001B[91m0.0541\u001B[0m      0.514  1.01954\n",
      "I/O Switch                 0.79            0.61      \u001B[91m0.341\u001B[0m         0.0341         \u001B[92m0.812\u001B[0m              \u001B[92m0.927\u001B[0m         \u001B[91m0.0839\u001B[0m      \u001B[91m0.251\u001B[0m  1.04999\n",
      "Puzzle                     0.795           0.693     \u001B[91m0.43\u001B[0m          0.0372         \u001B[91m0.00546\u001B[0m            \u001B[92m0.786\u001B[0m         \u001B[91m0.144\u001B[0m       \u001B[92m0.733\u001B[0m  1.10001\n",
      "Dead Weight                0.796           0.643     0.492         0.0387         \u001B[91m0.181\u001B[0m              \u001B[91m0.033\u001B[0m         \u001B[92m0.798\u001B[0m       \u001B[92m0.601\u001B[0m  1.07954\n",
      "Heavy                      0.802           \u001B[92m0.76\u001B[0m      \u001B[91m0.413\u001B[0m         0.0307         \u001B[91m0.326\u001B[0m              0.745         \u001B[91m0.0601\u001B[0m      \u001B[92m0.733\u001B[0m  \u001B[91m0.96999\u001B[0m\n",
      "Rare                       0.803           \u001B[92m0.719\u001B[0m     0.482         0.0423         \u001B[91m0.271\u001B[0m              \u001B[91m0.401\u001B[0m         \u001B[91m0.0655\u001B[0m      \u001B[92m0.71\u001B[0m   \u001B[92m1.19961\u001B[0m\n",
      "No One Noticed             0.81            \u001B[92m0.705\u001B[0m     \u001B[91m0.339\u001B[0m         0.0278         0.552              \u001B[91m0.0814\u001B[0m        \u001B[91m0.12\u001B[0m        0.457  \u001B[91m0.97989\u001B[0m\n",
      "Amoeba                     0.813           \u001B[92m0.739\u001B[0m     0.491         0.027          \u001B[92m0.791\u001B[0m              \u001B[91m0.0366\u001B[0m        \u001B[91m0.1\u001B[0m         \u001B[92m0.707\u001B[0m  1.11008\n",
      "Underdressed at the        0.816           0.598     \u001B[91m0.372\u001B[0m         0.0274         0.479              \u001B[91m6.54e-06\u001B[0m      \u001B[91m0.116\u001B[0m       0.432  \u001B[92m1.1802\u001B[0m\n",
      "Leftovers                  0.821           \u001B[92m0.81\u001B[0m      \u001B[91m0.286\u001B[0m         0.0471         0.52               \u001B[91m0.00023\u001B[0m       \u001B[91m0.0816\u001B[0m      0.443  1.11032\n",
      "I've Been In Love          0.824           0.679     0.506         0.0671         0.421              \u001B[91m0.00216\u001B[0m       \u001B[92m0.434\u001B[0m       \u001B[92m0.588\u001B[0m  1.14967\n",
      "The Bird Song              0.834           \u001B[91m0.453\u001B[0m     0.546         0.0469         \u001B[92m0.767\u001B[0m              \u001B[91m0\u001B[0m             \u001B[91m0.0814\u001B[0m      \u001B[92m0.654\u001B[0m  \u001B[92m1.16053\u001B[0m\n",
      "us. (feat. Taylor Sw       0.844           \u001B[91m0.533\u001B[0m     0.553         0.0296         0.498              \u001B[91m0\u001B[0m             \u001B[91m0.0911\u001B[0m      0.391  1.02043\n",
      "Chateau                    0.864           0.656     0.588         0.0384         \u001B[92m0.653\u001B[0m              \u001B[92m0.848\u001B[0m         \u001B[91m0.108\u001B[0m       \u001B[92m0.573\u001B[0m  \u001B[92m1.29986\u001B[0m\n",
      "NITROUS                    0.866           \u001B[92m0.826\u001B[0m     0.549         0.0344         \u001B[92m0.558\u001B[0m              0.68          \u001B[91m0.123\u001B[0m       0.378  \u001B[92m1.27995\u001B[0m\n",
      "Close The Door             0.869           0.617     0.51          0.0289         \u001B[92m0.64\u001B[0m               \u001B[91m0.000266\u001B[0m      \u001B[91m0.116\u001B[0m       \u001B[92m0.705\u001B[0m  \u001B[92m1.16952\u001B[0m\n",
      "The Minimalist Metho       0.871           0.585     \u001B[92m0.715\u001B[0m         0.0386         \u001B[91m0.166\u001B[0m              \u001B[92m0.924\u001B[0m         \u001B[91m0.105\u001B[0m       0.508  1.10005\n",
      "Reckless & Sweet           0.882           \u001B[92m0.809\u001B[0m     0.549         0.0508         0.416              \u001B[91m0.146\u001B[0m         \u001B[91m0.0744\u001B[0m      0.405  \u001B[91m0.97993\u001B[0m\n",
      "Tonight                    0.882           0.625     \u001B[91m0.391\u001B[0m         0.0471         \u001B[91m0.274\u001B[0m              \u001B[92m0.855\u001B[0m         \u001B[91m0.0726\u001B[0m      \u001B[92m0.58\u001B[0m   \u001B[91m0.89996\u001B[0m\n",
      "Tu Corazón Es Mío...       0.893           \u001B[92m0.696\u001B[0m     0.57          0.0289         \u001B[91m0.321\u001B[0m              \u001B[91m1.44e-05\u001B[0m      \u001B[91m0.15\u001B[0m        0.385  1.06032\n",
      "Bags                       0.895           \u001B[92m0.742\u001B[0m     0.546         0.0315         \u001B[91m0.172\u001B[0m              \u001B[91m0.38\u001B[0m          \u001B[91m0.115\u001B[0m       \u001B[92m0.868\u001B[0m  1.04996\n",
      "Sun City                   0.895           \u001B[91m0.525\u001B[0m     \u001B[91m0.271\u001B[0m         0.0305         \u001B[92m0.761\u001B[0m              \u001B[92m0.969\u001B[0m         \u001B[91m0.111\u001B[0m       \u001B[92m0.889\u001B[0m  1.09996\n",
      "PRICETAG/BEVERLYWOOD       0.896           \u001B[91m0.464\u001B[0m     \u001B[91m0.225\u001B[0m         0.0519         \u001B[92m0.965\u001B[0m              \u001B[91m0.0251\u001B[0m        0.235       0.492  1.0723\n",
      "That's Life                0.896           \u001B[92m0.754\u001B[0m     0.498         0.087          0.51               \u001B[91m0.0321\u001B[0m        \u001B[91m0.102\u001B[0m       \u001B[92m0.544\u001B[0m  \u001B[91m0.9611\u001B[0m\n",
      "HONDA                      0.899           0.682     \u001B[91m0.258\u001B[0m         0.129          \u001B[92m0.875\u001B[0m              \u001B[91m0.0476\u001B[0m        \u001B[92m0.662\u001B[0m       \u001B[92m0.517\u001B[0m  1.04093\n"
     ]
    }
   ],
   "execution_count": 9
  }
 ],
 "metadata": {
  "kernelspec": {
   "display_name": "Python 3",
   "language": "python",
   "name": "python3"
  },
  "language_info": {
   "codemirror_mode": {
    "name": "ipython",
    "version": 2
   },
   "file_extension": ".py",
   "mimetype": "text/x-python",
   "name": "python",
   "nbconvert_exporter": "python",
   "pygments_lexer": "ipython2",
   "version": "2.7.6"
  }
 },
 "nbformat": 4,
 "nbformat_minor": 5
}
