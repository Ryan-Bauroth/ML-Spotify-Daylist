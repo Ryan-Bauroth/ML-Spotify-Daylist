{
 "cells": [
  {
   "cell_type": "code",
   "id": "initial_id",
   "metadata": {
    "collapsed": true,
    "ExecuteTime": {
     "end_time": "2024-09-30T17:04:33.976585Z",
     "start_time": "2024-09-30T17:04:32.798964Z"
    }
   },
   "source": [
    "from src.python_files.manual_clustering import get_clustering_genres\n",
    "from sklearn.preprocessing import MultiLabelBinarizer\n",
    "import pandas as pd\n",
    "\n",
    "# Reading data from a CSV file and standardizing it\n",
    "data = pd.read_csv('../data.csv')[:-10]\n",
    "\n",
    "data[\"popularity\"] = data[\"popularity\"].apply(lambda pop: pop/100)\n",
    "data[\"tempo\"] = data[\"tempo\"].apply(lambda tpo: tpo/100)\n",
    "data[\"loudness\"] = data[\"loudness\"].apply(lambda ldn: ldn/40)\n",
    "data[\"popularity\"] = data[\"popularity\"].fillna(data[\"popularity\"].median())\n",
    "data[\"genres\"] = data[\"genres\"].fillna(\"\")\n",
    "data[\"genres\"] = data[\"genres\"].str.split(\".\")\n",
    "\n",
    "df = pd.DataFrame(data)\n",
    "\n",
    "df = df.drop(columns=['songname','artist', 'id'])\n",
    "\n",
    "# Define input features and target variables\n",
    "features = df[['time', 'dayofweek', 'month', 'temp']]\n",
    "targets = df.drop(columns=['time', 'dayofweek', 'month', 'temp', 'genres'])\n",
    "\n",
    "# spotify_genre_seeds = get_genres()['genres']\n",
    "\n",
    "# gets labels of genres\n",
    "spotify_genre_seeds = get_clustering_genres()\n",
    "\n",
    "# updates genre's col to include only certain seed labels\n",
    "for idx in range(len(data['genres'])):\n",
    "    song_genres = data['genres'][idx]\n",
    "    simplified_song_genres = []\n",
    "    for song_genre in song_genres:\n",
    "        for genre in spotify_genre_seeds:\n",
    "            if genre in song_genre:\n",
    "                simplified_song_genres.append(genre)\n",
    "    data.at[idx, 'genres'] = simplified_song_genres"
   ],
   "outputs": [],
   "execution_count": 10
  },
  {
   "metadata": {
    "ExecuteTime": {
     "end_time": "2024-09-30T17:04:41.821540Z",
     "start_time": "2024-09-30T17:04:33.986852Z"
    }
   },
   "cell_type": "code",
   "source": [
    "from src.python_files.num_predict import train_gradient_boosting_regressor\n",
    "from src.python_files.cat_predict import train_random_forest_classifier\n",
    "\n",
    "# turns genres into an array of 0s and 1s. 1 means the genre exists on that piece of data, 0 means it doesn't exist\n",
    "classifier_target = data['genres']\n",
    "mlb = MultiLabelBinarizer()\n",
    "classifier_target = mlb.fit_transform(classifier_target)\n",
    "classifier_target = pd.DataFrame(classifier_target, columns=mlb.classes_)\n",
    "\n",
    "# trains a model based on features variable to find expected genre\n",
    "model = train_random_forest_classifier(features, classifier_target)[0]\n",
    "\n",
    "# trains a model based on features + genre seeds to predict song characteristics\n",
    "features = pd.concat([features, classifier_target], axis=1)\n",
    "multi_output_gbr = train_gradient_boosting_regressor(features, targets)[0]"
   ],
   "id": "5f7a80a6ff17993f",
   "outputs": [],
   "execution_count": 11
  },
  {
   "metadata": {
    "ExecuteTime": {
     "end_time": "2024-09-30T17:04:42.050326Z",
     "start_time": "2024-09-30T17:04:42.041091Z"
    }
   },
   "cell_type": "code",
   "source": [
    "from src.python_files.record import get_weather_info, get_hour_info, get_weekday_info, get_month_info\n",
    "import nest_asyncio\n",
    "import asyncio\n",
    "\n",
    "nest_asyncio.apply()\n",
    "\n",
    "# gets current information\n",
    "\n",
    "temp = float(asyncio.run(get_weather_info()))\n",
    "time = float(get_hour_info())\n",
    "day = float(get_weekday_info())\n",
    "month = float(get_month_info())"
   ],
   "id": "834a2bef5c81c153",
   "outputs": [],
   "execution_count": 12
  },
  {
   "metadata": {
    "ExecuteTime": {
     "end_time": "2024-09-30T17:04:42.538189Z",
     "start_time": "2024-09-30T17:04:42.167182Z"
    }
   },
   "cell_type": "code",
   "source": [
    "import numpy as np\n",
    "\n",
    "# time, dow, month, temp\n",
    "cat_predict_value = pd.DataFrame([[time, day, month, temp]], columns=[\"time\", \"dayofweek\", \"month\", \"temp\"])\n",
    "\n",
    "# predicts which genres are most likely given current info\n",
    "class_predict = model.predict(cat_predict_value)\n",
    "\n",
    "# gives the probabilities of each of these genres\n",
    "probabilities = model.predict_proba(cat_predict_value)\n",
    "\n",
    "genre_prediction = []\n",
    "# idx, value\n",
    "top_prob = [0, 0]\n",
    "\n",
    "prob_cutoff = .125\n",
    "\n",
    "for prob_idx in range(len(probabilities)):\n",
    "    if len(probabilities[prob_idx][0]) == 2:\n",
    "        if probabilities[prob_idx][0][1] > top_prob[1] and probabilities[prob_idx][0][1] > prob_cutoff:\n",
    "            top_prob = [prob_idx, probabilities[prob_idx][0][1]]\n",
    "        genre_prediction.append(1)\n",
    "    else:\n",
    "        genre_prediction.append(0)\n",
    "                                    \n",
    "genre_prediction = np.array(genre_prediction).reshape(1, -1)\n",
    "\n",
    "genre_df = pd.DataFrame(genre_prediction, columns=mlb.classes_)\n",
    "\n",
    "\n",
    "# uses the prediction genre along with other features to predict song characteristics\n",
    "num_predict_value = pd.concat([pd.DataFrame([[time, day, month, temp]], columns=[\"time\", \"dayofweek\", \"month\", \"temp\"]), genre_df], axis=1)\n",
    "    \n",
    "# Make predictions\n",
    "y_pred = multi_output_gbr.predict(num_predict_value)\n",
    "\n",
    "noise = np.random.normal(0, scale=0.1, size=y_pred.shape)  # Adds some noise in an attempt to make playlists more diversified\n",
    "y_pred = y_pred + noise\n",
    "\n",
    "genre_prediction_text = list(mlb.inverse_transform(genre_prediction)[0])\n",
    "top_predicted_genre = genre_df.columns[top_prob[0]]\n",
    "\n",
    "print(genre_prediction_text)\n"
   ],
   "id": "71212b1120c8bea2",
   "outputs": [
    {
     "name": "stdout",
     "output_type": "stream",
     "text": [
      "['afrobeat', 'album rock', 'alternative', 'ambient', 'anime', 'blues', 'british', 'chill', 'classic rock', 'club', 'country', 'dance', 'dance pop', 'disco', 'edm', 'electro', 'electronic', 'electropop', 'emo', 'folk', 'french', 'funk', 'gangster rap', 'garage', 'goth', 'grunge', 'hard rock', 'hip hop', 'house', 'indie', 'indie poptimism', 'jazz', 'k-pop', 'latin', 'latino', 'neo soul', 'permanent wave', 'pop', 'post-teen pop', 'punk', 'reggae', 'reggaeton', 'rock', 'sad', 'singer-songwriter', 'ska', 'songwriter', 'soul', 'southern hip hop', 'swedish', 'trap', 'urban contemporary']\n"
     ]
    }
   ],
   "execution_count": 13
  },
  {
   "metadata": {
    "ExecuteTime": {
     "end_time": "2024-09-30T17:05:14.518017Z",
     "start_time": "2024-09-30T17:04:42.560043Z"
    }
   },
   "cell_type": "code",
   "source": [
    "from src.python_files.manual_clustering import weight_genres, cluster_songs_by_genre\n",
    "from sklearn.preprocessing import MinMaxScaler\n",
    "\n",
    "# dataset of more songs to use\n",
    "dataset = pd.read_csv('../dataset.csv')\n",
    "\n",
    "# data = dataset\n",
    "# \n",
    "# dataset[\"popularity\"] = dataset[\"popularity\"].apply(lambda pop: pop/100)\n",
    "# dataset[\"tempo\"] = dataset[\"tempo\"].apply(lambda tpo: tpo/100)\n",
    "# dataset[\"loudness\"] = dataset[\"loudness\"].apply(lambda ldn: ldn/40)\n",
    "\n",
    "\n",
    "# columns of data important to predictions\n",
    "predicted_cols=['danceability', 'energy', 'loudness', 'speechiness', 'acousticness', 'instrumentalness', 'liveness', 'valence', 'tempo']\n",
    "\n",
    "cleaned_df = df.drop(['genres', 'temp', 'time', 'dayofweek', 'month', 'duration_ms', 'popularity'],axis=1)\n",
    "\n",
    "# scales from 0-1\n",
    "cleaned_df = MinMaxScaler().fit_transform(cleaned_df)\n",
    "\n",
    "cleaned_df = pd.DataFrame(cleaned_df)\n",
    "\n",
    "# Convert cleaned_df to NumPy array for faster operations\n",
    "cleaned_np = np.array(cleaned_df)\n",
    "\n",
    "# runs data clustering, creation of genre specific weights, gets a specific weight to be used given the top genre\n",
    "genre_song_dict = cluster_songs_by_genre(data)\n",
    "\n",
    "weighted_genres = weight_genres(genre_song_dict, cleaned_np, cleaned_df)\n",
    "\n",
    "prediction_weighting = weighted_genres[top_predicted_genre]\n",
    "\n",
    "song_similarity_dict = {}\n",
    "\n",
    "def calc_similarity_ratings(data):\n",
    "    \"\"\"\n",
    "    Calculates the similarity ratings for the given data.\n",
    "\n",
    "    :param data: The data to calculate similarity ratings for.\n",
    "    :return: The accuracy score, popularity threshold, and song artists.\n",
    "    \"\"\"\n",
    "    accuracy_score = 0\n",
    "    popularity_thresh = False\n",
    "    for col_idx in range(len(predicted_cols)):\n",
    "        # need to figure out how to do this for best results\n",
    "        if (y_pred[0][col_idx] > .5 and data[predicted_cols[col_idx]][i] > .5) or (y_pred[0][col_idx] < .5 and data[predicted_cols[col_idx]][i] < .5):\n",
    "            accuracy_score += abs(y_pred[0][col_idx] - data[predicted_cols[col_idx]][i]) * prediction_weighting[col_idx]\n",
    "        else:\n",
    "            accuracy_score += abs(pow(y_pred[0][col_idx] - data[predicted_cols[col_idx]][i], 2)) * prediction_weighting[col_idx]  \n",
    "    if data[\"popularity\"][i] > .5:\n",
    "        popularity_thresh = True\n",
    "    song_artists = data[\"artist\"][i]\n",
    "    \n",
    "    return accuracy_score, popularity_thresh, song_artists\n",
    "\n",
    "# makes a dict of songs and their similarity ratings\n",
    "for i in range(len(data[\"songname\"])):\n",
    "    if data[\"songname\"][i] not in song_similarity_dict.keys():\n",
    "        accuracy_score, popularity_thresh, song_artists = calc_similarity_ratings(data)\n",
    "        song_similarity_dict[data[\"songname\"][i]] = {\"accuracy\" : accuracy_score, \"popularity\" : popularity_thresh, \"artists\" : song_artists, \"data_idx\" : i}\n",
    "    "
   ],
   "id": "e1cc8bcb98dfbdc9",
   "outputs": [],
   "execution_count": 14
  },
  {
   "metadata": {
    "ExecuteTime": {
     "end_time": "2024-09-30T17:05:14.579657Z",
     "start_time": "2024-09-30T17:05:14.576019Z"
    }
   },
   "cell_type": "code",
   "source": [
    "def get_closest_song(drop_score):\n",
    "    \"\"\"\n",
    "    :param drop_score: the minimum score threshold for dropping a song\n",
    "    :return: a tuple containing the best song name and artist name, or \"DROP\" if the best score is below the drop_score\n",
    "\n",
    "    This function iterates through a dictionary of song similarity scores and returns the closest song based on the accuracy score. \n",
    "    The drop_score is used to determine whether the best song should be dropped. If the best_score is below the drop_score, \n",
    "    the function returns \"DROP\", otherwise it returns the best_song_name and best_artists_name.\n",
    "    \"\"\"\n",
    "    best_score = 10000\n",
    "    best_song_name = \"\"\n",
    "    best_artists_name = \"\"\n",
    "    \n",
    "    for songname in song_similarity_dict.keys():\n",
    "        \n",
    "        song = song_similarity_dict[songname]\n",
    "        \n",
    "        if song[\"accuracy\"] < best_score and songname not in best_names and song[\"popularity\"]:\n",
    "            best_score = song[\"accuracy\"]\n",
    "            best_song_name = songname\n",
    "            best_artists_name = song[\"artists\"]\n",
    "        \n",
    "    if best_score >= drop_score:\n",
    "        return \"DROP\", \"DROP\"\n",
    "    else:\n",
    "        return best_song_name, best_artists_name\n",
    "    "
   ],
   "id": "d43eda1ccc23e13e",
   "outputs": [],
   "execution_count": 15
  },
  {
   "metadata": {
    "ExecuteTime": {
     "end_time": "2024-09-30T17:05:14.647095Z",
     "start_time": "2024-09-30T17:05:14.639485Z"
    }
   },
   "cell_type": "code",
   "source": [
    "# sets the length of the playlist and how bad data has to get to not fill up to that point\n",
    "playlist_length = 50\n",
    "drop_score = 1\n",
    "\n",
    "best_names = []\n",
    "best_artists = []\n",
    "\n",
    "top_song, top_artist = get_closest_song(drop_score)    \n",
    "\n",
    "# gets the best songs according to the predictions and adds them to an arr\n",
    "for x in range(playlist_length):\n",
    "    best_song_name, best_artists_name = get_closest_song(drop_score)\n",
    "    \n",
    "    if best_song_name == \"DROP\":\n",
    "        break\n",
    "    \n",
    "    best_names.append(best_song_name)\n",
    "    best_artists.append(song_similarity_dict[best_song_name][\"artists\"])\n",
    "    \n",
    "print(best_names)"
   ],
   "id": "18717183930da5cc",
   "outputs": [
    {
     "name": "stdout",
     "output_type": "stream",
     "text": [
      "['I Love You So', 'SLOW DANCING IN THE DARK', 'Go Away', 'Pears', 'Every Summertime', 'Never Felt So Alone', 'Beauty & Essex (feat. Daniel Caesar & Unknown Mortal Orchestra)', 'this is what space feels like', 'Doctor My Eyes', 'The Way Back', 'Beige', 'I Wish you Roses', 'Too Many Nights (feat. Don Toliver & with Future)', 'Tough Love', 'From the Subway Train', \"It's Called: Freefall\", 'In A Good Way', 'Cooks', 'HONEST', 'Useless', 'No Pole', 'Mystery Lady', 'Rebuke', 'Eventually', 'New Sky', 'Bloom Later', 'Wurli', 'Andromeda', 'WHITE CROCS (with Ryan Trey)', 'Sunsick', 'august', 'Summertime In Paris', 'Blue Ridge Mountains', 'Alive!', 'Where Are You Going', 'exile (feat. Bon Iver)', 'loving u is harder', 'Better in the Dark', 'Jukebox Joints (feat. Joe Fox & Kanye West)', 'Take A Bite', 'Sailor Song', 'People Watching', 'Beautiful Things', 'The Exit', 'After The Storm (feat. Tyler The Creator & Bootsy Collins)', '90210 (feat. Kacy Hill)', 'Six Speed', 'Hush - Still Woozy Remix', 'us. (feat. Taylor Swift)', 'Empire Ants (feat. Little Dragon)']\n"
     ]
    }
   ],
   "execution_count": 16
  },
  {
   "metadata": {
    "ExecuteTime": {
     "end_time": "2024-09-30T17:05:24.572070Z",
     "start_time": "2024-09-30T17:05:14.706189Z"
    }
   },
   "cell_type": "code",
   "source": [
    "import os\n",
    "from dotenv import load_dotenv\n",
    "from src.python_files.spotify_helper import update_playlist\n",
    "\n",
    "load_dotenv()\n",
    "\n",
    "# uploads the song to spotify\n",
    "\n",
    "playlist_id = os.getenv('PLAYLIST_ID')\n",
    "update_playlist(best_names, best_artists, playlist_id)\n",
    "\n",
    "# update_playlist(best_names, best_artists)"
   ],
   "id": "ef929317fd8f70c5",
   "outputs": [],
   "execution_count": 17
  },
  {
   "metadata": {
    "ExecuteTime": {
     "end_time": "2024-09-30T17:05:24.679766Z",
     "start_time": "2024-09-30T17:05:24.660825Z"
    }
   },
   "cell_type": "code",
   "source": [
    "from tabulate import tabulate\n",
    "\n",
    "# displays the data in a format easily readable\n",
    "\n",
    "RED = \"\\033[91m\"\n",
    "GREEN = \"\\033[92m\"\n",
    "RESET = \"\\033[0m\"\n",
    "\n",
    "pred_act = [[\"track\", \"accuracy\"], [\"\", \"0\"]]\n",
    "\n",
    "for col_idx in range(len(predicted_cols)):\n",
    "    pred_act[0].append(predicted_cols[col_idx])\n",
    "    pred_act[1].append(str(round(y_pred[0][col_idx], 3)))\n",
    "    \n",
    "outlier_dist = .07\n",
    "    \n",
    "for name in best_names:\n",
    "    r = song_similarity_dict[name][\"data_idx\"]\n",
    "    temp_arr = [round(song_similarity_dict[name][\"accuracy\"], 3)]\n",
    "    for c in predicted_cols:\n",
    "        cr_data = data[c][r]\n",
    "        if abs(float(pred_act[1][len(temp_arr) + 1]) - cr_data) < outlier_dist:\n",
    "            temp_arr.append(str(data[c][r]))\n",
    "        elif float(pred_act[1][len(temp_arr) + 1]) - cr_data > outlier_dist:\n",
    "            temp_arr.append(RED + str(data[c][r]) + RESET)\n",
    "        else:\n",
    "            temp_arr.append(GREEN + str(data[c][r]) + RESET)\n",
    "    temp_arr.insert(0, name[:20])\n",
    "    pred_act.append(temp_arr)\n",
    "        \n",
    "print(tabulate(pred_act, headers='firstrow', tablefmt='plain')) "
   ],
   "id": "b058c6a36d3a9520",
   "outputs": [
    {
     "name": "stdout",
     "output_type": "stream",
     "text": [
      "track                   accuracy    danceability    energy    loudness    speechiness    acousticness    instrumentalness    liveness    valence    tempo\n",
      "                           0               0.447     0.619    0.898           -0.075           0.397            -0.389         0.291      0.258   0.748\n",
      "I Love You So              0.233           \u001B[92m0.575\u001B[0m     0.648   \u001B[91m-0.122275\u001B[0m         \u001B[92m0.0358\u001B[0m          \u001B[92m0.583\u001B[0m             \u001B[92m0\u001B[0m             \u001B[91m0.115\u001B[0m      \u001B[92m0.466\u001B[0m   0.75977\n",
      "SLOW DANCING IN THE        0.233           \u001B[92m0.517\u001B[0m     \u001B[91m0.479\u001B[0m   \u001B[91m-0.18645\u001B[0m          \u001B[92m0.0261\u001B[0m          \u001B[92m0.544\u001B[0m             \u001B[92m0.00598\u001B[0m       \u001B[91m0.191\u001B[0m      0.284   \u001B[92m0.88968\u001B[0m\n",
      "Go Away                    0.235           0.424     \u001B[91m0.483\u001B[0m   \u001B[91m-0.156325\u001B[0m         \u001B[92m0.0475\u001B[0m          \u001B[92m0.707\u001B[0m             \u001B[92m0.00777\u001B[0m       \u001B[91m0.135\u001B[0m      0.192   0.78033\n",
      "Pears                      0.237           \u001B[92m0.607\u001B[0m     0.599   \u001B[91m-0.162025\u001B[0m         \u001B[92m0.0558\u001B[0m          \u001B[92m0.534\u001B[0m             \u001B[92m0\u001B[0m             \u001B[91m0.111\u001B[0m      0.192   \u001B[92m0.82013\u001B[0m\n",
      "Every Summertime           0.238           \u001B[92m0.628\u001B[0m     0.676   \u001B[91m-0.105675\u001B[0m         \u001B[92m0.0424\u001B[0m          0.393             \u001B[92m6.94e-05\u001B[0m      \u001B[91m0.0978\u001B[0m     \u001B[92m0.723\u001B[0m   0.78996\n",
      "Never Felt So Alone        0.245           0.436     \u001B[91m0.409\u001B[0m   \u001B[91m-0.11095\u001B[0m          \u001B[92m0.0533\u001B[0m          \u001B[92m0.499\u001B[0m             \u001B[92m0.000166\u001B[0m      \u001B[92m0.38\u001B[0m       \u001B[92m0.363\u001B[0m   \u001B[92m0.98357\u001B[0m\n",
      "Beauty & Essex (feat       0.246           \u001B[92m0.552\u001B[0m     \u001B[92m0.741\u001B[0m   \u001B[91m-0.135475\u001B[0m         \u001B[92m0.0542\u001B[0m          \u001B[91m0.284\u001B[0m             \u001B[92m8.2e-05\u001B[0m       0.334      \u001B[92m0.718\u001B[0m   0.69709\n",
      "this is what space f       0.247           0.515     \u001B[91m0.379\u001B[0m   \u001B[91m-0.135975\u001B[0m         \u001B[92m0.156\u001B[0m           \u001B[91m0.3\u001B[0m               \u001B[92m0.000112\u001B[0m      \u001B[92m0.369\u001B[0m      \u001B[92m0.455\u001B[0m   0.73092\n",
      "Doctor My Eyes             0.25            0.484     \u001B[91m0.433\u001B[0m   \u001B[91m-0.21315\u001B[0m          \u001B[92m0.0348\u001B[0m          \u001B[92m0.786\u001B[0m             \u001B[92m0.000121\u001B[0m      0.309      \u001B[92m0.569\u001B[0m   \u001B[92m0.83496\u001B[0m\n",
      "The Way Back               0.251           \u001B[92m0.543\u001B[0m     \u001B[91m0.492\u001B[0m   \u001B[91m-0.207825\u001B[0m         \u001B[92m0.0574\u001B[0m          \u001B[92m0.673\u001B[0m             \u001B[92m0.000163\u001B[0m      \u001B[91m0.112\u001B[0m      \u001B[91m0.178\u001B[0m   0.79886\n",
      "Beige                      0.252           0.47      0.67    \u001B[91m-0.18815\u001B[0m          \u001B[92m0.0783\u001B[0m          0.393             \u001B[92m0.041\u001B[0m         \u001B[91m0.117\u001B[0m      0.219   \u001B[92m0.83856\u001B[0m\n",
      "I Wish you Roses           0.252           0.469     0.648   \u001B[91m-0.20765\u001B[0m          \u001B[92m0.0522\u001B[0m          \u001B[91m0.174\u001B[0m             \u001B[92m0.000905\u001B[0m      \u001B[91m0.179\u001B[0m      0.279   0.71032\n",
      "Too Many Nights (fea       0.254           \u001B[92m0.573\u001B[0m     0.668   \u001B[91m-0.1089\u001B[0m           \u001B[92m0.0467\u001B[0m          \u001B[91m0.189\u001B[0m             \u001B[92m4.01e-05\u001B[0m      \u001B[91m0.109\u001B[0m      \u001B[91m0.145\u001B[0m   \u001B[92m0.87973\u001B[0m\n",
      "Tough Love                 0.255           \u001B[92m0.554\u001B[0m     \u001B[92m0.716\u001B[0m   \u001B[91m-0.10835\u001B[0m          \u001B[92m0.0717\u001B[0m          0.37              \u001B[92m0\u001B[0m             \u001B[91m0.0919\u001B[0m     \u001B[92m0.664\u001B[0m   \u001B[92m0.89873\u001B[0m\n",
      "From the Subway Trai       0.26            0.392     \u001B[91m0.429\u001B[0m   \u001B[91m-0.256975\u001B[0m         \u001B[92m0.0462\u001B[0m          \u001B[92m0.527\u001B[0m             \u001B[92m0.015\u001B[0m         \u001B[91m0.217\u001B[0m      \u001B[91m0.105\u001B[0m   0.72104\n",
      "It's Called: Freefal       0.261           \u001B[92m0.744\u001B[0m     \u001B[91m0.516\u001B[0m   \u001B[91m-0.159125\u001B[0m         \u001B[92m0.0513\u001B[0m          \u001B[92m0.632\u001B[0m             \u001B[92m0\u001B[0m             \u001B[92m0.605\u001B[0m      0.281   \u001B[92m0.97944\u001B[0m\n",
      "In A Good Way              0.262           \u001B[92m0.587\u001B[0m     \u001B[91m0.286\u001B[0m   \u001B[91m-0.220975\u001B[0m         \u001B[92m0.0315\u001B[0m          \u001B[91m0.185\u001B[0m             \u001B[92m0.0288\u001B[0m        \u001B[91m0.214\u001B[0m      0.302   0.71123\n",
      "Cooks                      0.262           0.45      0.583   \u001B[91m-0.26225\u001B[0m          \u001B[92m0.0811\u001B[0m          0.434             \u001B[92m0.0126\u001B[0m        0.244      \u001B[92m0.701\u001B[0m   0.77066\n",
      "HONEST                     0.262           \u001B[92m0.676\u001B[0m     \u001B[91m0.536\u001B[0m   \u001B[91m-0.21975\u001B[0m          \u001B[92m0.0432\u001B[0m          0.403             \u001B[92m3.37e-05\u001B[0m      \u001B[91m0.105\u001B[0m      \u001B[92m0.373\u001B[0m   0.79037\n",
      "Useless                    0.263           \u001B[92m0.612\u001B[0m     0.565   \u001B[91m-0.190225\u001B[0m         \u001B[92m0.0414\u001B[0m          \u001B[92m0.585\u001B[0m             \u001B[92m0.00174\u001B[0m       \u001B[91m0.0827\u001B[0m     \u001B[92m0.545\u001B[0m   \u001B[92m0.89895\u001B[0m\n",
      "No Pole                    0.263           \u001B[91m0.328\u001B[0m     0.631   \u001B[91m-0.129225\u001B[0m         \u001B[92m0.0465\u001B[0m          \u001B[91m0.0714\u001B[0m            \u001B[92m0\u001B[0m             \u001B[92m0.567\u001B[0m      \u001B[92m0.382\u001B[0m   \u001B[92m0.85262\u001B[0m\n",
      "Mystery Lady               0.264           \u001B[92m0.747\u001B[0m     \u001B[91m0.494\u001B[0m   \u001B[91m-0.198925\u001B[0m         \u001B[92m0.141\u001B[0m           0.393             \u001B[92m0\u001B[0m             \u001B[91m0.0982\u001B[0m     \u001B[92m0.624\u001B[0m   0.76006\n",
      "Rebuke                     0.265           \u001B[92m0.606\u001B[0m     0.622   \u001B[91m-0.134925\u001B[0m         \u001B[92m0.109\u001B[0m           \u001B[91m0.18\u001B[0m              \u001B[92m0\u001B[0m             \u001B[91m0.0883\u001B[0m     \u001B[92m0.581\u001B[0m   \u001B[92m0.86867\u001B[0m\n",
      "Eventually                 0.265           0.424     0.615   \u001B[91m-0.155425\u001B[0m         \u001B[92m0.0325\u001B[0m          \u001B[91m0.0158\u001B[0m            \u001B[92m0.000389\u001B[0m      \u001B[91m0.0844\u001B[0m     \u001B[91m0.155\u001B[0m   0.77935\n",
      "New Sky                    0.266           \u001B[92m0.602\u001B[0m     0.651   \u001B[91m-0.173675\u001B[0m         \u001B[92m0.0382\u001B[0m          \u001B[91m0.0593\u001B[0m            \u001B[92m0.000998\u001B[0m      \u001B[91m0.151\u001B[0m      0.252   \u001B[92m0.8903\u001B[0m\n",
      "Bloom Later                0.266           0.513     \u001B[91m0.318\u001B[0m   \u001B[91m-0.261275\u001B[0m         \u001B[92m0.0314\u001B[0m          \u001B[92m0.796\u001B[0m             \u001B[92m0\u001B[0m             \u001B[91m0.177\u001B[0m      0.249   \u001B[92m0.81923\u001B[0m\n",
      "Wurli                      0.267           0.482     \u001B[92m0.837\u001B[0m   \u001B[91m-0.0924\u001B[0m           \u001B[92m0.0639\u001B[0m          0.385             \u001B[92m0.0216\u001B[0m        \u001B[91m0.132\u001B[0m      \u001B[91m0.0787\u001B[0m  \u001B[92m0.91968\u001B[0m\n",
      "Andromeda                  0.267           \u001B[92m0.72\u001B[0m      0.614   \u001B[91m-0.136025\u001B[0m         \u001B[92m0.136\u001B[0m           \u001B[92m0.518\u001B[0m             \u001B[92m0.045\u001B[0m         \u001B[91m0.111\u001B[0m      \u001B[92m0.491\u001B[0m   \u001B[92m0.83041\u001B[0m\n",
      "WHITE CROCS (with Ry       0.267           \u001B[92m0.707\u001B[0m     \u001B[91m0.429\u001B[0m   \u001B[91m-0.23715\u001B[0m          \u001B[92m0.0305\u001B[0m          \u001B[92m0.585\u001B[0m             \u001B[92m0.000326\u001B[0m      0.25       \u001B[91m0.111\u001B[0m   \u001B[92m0.92032\u001B[0m\n",
      "Sunsick                    0.268           \u001B[92m0.663\u001B[0m     0.583   \u001B[91m-0.230875\u001B[0m         \u001B[92m0.0346\u001B[0m          0.411             \u001B[92m0.138\u001B[0m         \u001B[91m0.169\u001B[0m      \u001B[92m0.58\u001B[0m    0.81507\n",
      "august                     0.268           \u001B[92m0.532\u001B[0m     0.623   \u001B[91m-0.2302\u001B[0m           \u001B[92m0.0331\u001B[0m          \u001B[92m0.538\u001B[0m             \u001B[92m7.28e-05\u001B[0m      \u001B[91m0.0925\u001B[0m     \u001B[92m0.403\u001B[0m   \u001B[92m0.89937\u001B[0m\n",
      "Summertime In Paris        0.269           \u001B[92m0.569\u001B[0m     \u001B[92m0.86\u001B[0m    \u001B[91m-0.1029\u001B[0m           \u001B[92m0.043\u001B[0m           \u001B[91m0.135\u001B[0m             \u001B[92m0\u001B[0m             \u001B[91m0.153\u001B[0m      0.289   \u001B[92m0.90937\u001B[0m\n",
      "Blue Ridge Mountains       0.269           \u001B[92m0.533\u001B[0m     \u001B[91m0.426\u001B[0m   \u001B[91m-0.212625\u001B[0m         \u001B[92m0.0273\u001B[0m          \u001B[92m0.708\u001B[0m             \u001B[92m0.000488\u001B[0m      \u001B[91m0.101\u001B[0m      0.274   \u001B[92m0.97905\u001B[0m\n",
      "Alive!                     0.27            \u001B[92m0.75\u001B[0m      \u001B[92m0.736\u001B[0m   \u001B[91m-0.135125\u001B[0m         \u001B[92m0.0307\u001B[0m          \u001B[92m0.517\u001B[0m             \u001B[92m1.23e-05\u001B[0m      \u001B[91m0.0866\u001B[0m     \u001B[92m0.579\u001B[0m   \u001B[92m0.97032\u001B[0m\n",
      "Where Are You Going        0.271           0.444     0.583   \u001B[91m-0.203025\u001B[0m         \u001B[92m0.0259\u001B[0m          \u001B[92m0.5\u001B[0m               \u001B[92m0.15\u001B[0m          \u001B[91m0.105\u001B[0m      0.258   \u001B[92m0.97492\u001B[0m\n",
      "exile (feat. Bon Ive       0.271           \u001B[91m0.31\u001B[0m      \u001B[91m0.374\u001B[0m   \u001B[91m-0.2116\u001B[0m           \u001B[92m0.0275\u001B[0m          \u001B[92m0.761\u001B[0m             \u001B[92m2.46e-05\u001B[0m      \u001B[91m0.11\u001B[0m       \u001B[91m0.16\u001B[0m    0.75938\n",
      "loving u is harder         0.271           \u001B[92m0.696\u001B[0m     \u001B[92m0.809\u001B[0m   \u001B[91m-0.16555\u001B[0m          \u001B[92m0.0473\u001B[0m          \u001B[92m0.61\u001B[0m              \u001B[92m0.00924\u001B[0m       \u001B[91m0.177\u001B[0m      \u001B[92m0.738\u001B[0m   0.80039\n",
      "Better in the Dark         0.272           \u001B[92m0.678\u001B[0m     0.64    \u001B[91m-0.18715\u001B[0m          \u001B[92m0.0268\u001B[0m          \u001B[91m0.283\u001B[0m             \u001B[92m0.00067\u001B[0m       \u001B[92m0.682\u001B[0m      \u001B[92m0.701\u001B[0m   \u001B[92m0.90058\u001B[0m\n",
      "Jukebox Joints (feat       0.273           \u001B[91m0.284\u001B[0m     \u001B[92m0.803\u001B[0m   \u001B[91m-0.132325\u001B[0m         \u001B[92m0.173\u001B[0m           \u001B[91m0.302\u001B[0m             \u001B[92m0\u001B[0m             0.242      \u001B[92m0.553\u001B[0m   \u001B[91m0.67536\u001B[0m\n",
      "Take A Bite                0.273           \u001B[92m0.537\u001B[0m     0.631   \u001B[91m-0.16395\u001B[0m          \u001B[92m0.0263\u001B[0m          \u001B[91m0.0453\u001B[0m            \u001B[92m0.003\u001B[0m         0.325      \u001B[92m0.491\u001B[0m   \u001B[92m0.91007\u001B[0m\n",
      "Sailor Song                0.273           0.492     \u001B[91m0.416\u001B[0m   \u001B[91m-0.260975\u001B[0m         \u001B[92m0.0254\u001B[0m          \u001B[92m0.686\u001B[0m             \u001B[92m8.61e-05\u001B[0m      \u001B[91m0.203\u001B[0m      0.297   \u001B[92m0.94926\u001B[0m\n",
      "People Watching            0.273           \u001B[92m0.53\u001B[0m      0.592   \u001B[91m-0.182025\u001B[0m         \u001B[92m0.0534\u001B[0m          0.381             \u001B[92m0\u001B[0m             0.294      \u001B[92m0.544\u001B[0m   \u001B[92m1.25721\u001B[0m\n",
      "Beautiful Things           0.274           0.472     \u001B[91m0.471\u001B[0m   \u001B[91m-0.1423\u001B[0m           \u001B[92m0.0603\u001B[0m          \u001B[91m0.151\u001B[0m             \u001B[92m0\u001B[0m             \u001B[91m0.14\u001B[0m       0.219   \u001B[92m1.05029\u001B[0m\n",
      "The Exit                   0.275           \u001B[92m0.58\u001B[0m      \u001B[91m0.416\u001B[0m   \u001B[91m-0.239775\u001B[0m         \u001B[92m0.0291\u001B[0m          \u001B[92m0.608\u001B[0m             \u001B[92m0\u001B[0m             \u001B[91m0.0883\u001B[0m     \u001B[92m0.453\u001B[0m   \u001B[92m0.82015\u001B[0m\n",
      "After The Storm (fea       0.276           \u001B[92m0.702\u001B[0m     0.659   \u001B[91m-0.16915\u001B[0m          \u001B[92m0.13\u001B[0m            \u001B[91m0.301\u001B[0m             \u001B[92m0.00201\u001B[0m       \u001B[91m0.218\u001B[0m      \u001B[92m0.843\u001B[0m   0.7964\n",
      "90210 (feat. Kacy Hi       0.276           0.402     \u001B[91m0.527\u001B[0m   \u001B[91m-0.168425\u001B[0m         \u001B[92m0.0917\u001B[0m          \u001B[91m0.113\u001B[0m             \u001B[92m8.48e-06\u001B[0m      \u001B[91m0.105\u001B[0m      0.31    0.8142\n",
      "Six Speed                  0.276           0.51      \u001B[91m0.327\u001B[0m   \u001B[91m-0.15385\u001B[0m          \u001B[92m0.504\u001B[0m           0.335             \u001B[92m0\u001B[0m             \u001B[91m0.119\u001B[0m      \u001B[92m0.523\u001B[0m   \u001B[91m0.37399\u001B[0m\n",
      "Hush - Still Woozy R       0.276           \u001B[92m0.708\u001B[0m     0.554   \u001B[91m-0.17075\u001B[0m          \u001B[92m0.0311\u001B[0m          0.403             \u001B[92m0.0428\u001B[0m        \u001B[91m0.126\u001B[0m      \u001B[92m0.564\u001B[0m   \u001B[92m1.03999\u001B[0m\n",
      "us. (feat. Taylor Sw       0.277           \u001B[92m0.533\u001B[0m     0.553   \u001B[91m-0.16215\u001B[0m          \u001B[92m0.0296\u001B[0m          \u001B[92m0.498\u001B[0m             \u001B[92m0\u001B[0m             \u001B[91m0.0911\u001B[0m     \u001B[92m0.391\u001B[0m   \u001B[92m1.02043\u001B[0m\n",
      "Empire Ants (feat. L       0.277           \u001B[92m0.601\u001B[0m     \u001B[92m0.772\u001B[0m   \u001B[91m-0.103425\u001B[0m         \u001B[92m0.031\u001B[0m           \u001B[91m0.181\u001B[0m             \u001B[92m0.0543\u001B[0m        \u001B[91m0.0928\u001B[0m     0.294   \u001B[92m0.99445\u001B[0m\n"
     ]
    }
   ],
   "execution_count": 18
  }
 ],
 "metadata": {
  "kernelspec": {
   "display_name": "Python 3",
   "language": "python",
   "name": "python3"
  },
  "language_info": {
   "codemirror_mode": {
    "name": "ipython",
    "version": 2
   },
   "file_extension": ".py",
   "mimetype": "text/x-python",
   "name": "python",
   "nbconvert_exporter": "python",
   "pygments_lexer": "ipython2",
   "version": "2.7.6"
  }
 },
 "nbformat": 4,
 "nbformat_minor": 5
}
