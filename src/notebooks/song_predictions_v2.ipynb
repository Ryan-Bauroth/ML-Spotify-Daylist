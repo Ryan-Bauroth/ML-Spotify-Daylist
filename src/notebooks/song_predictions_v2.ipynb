{
 "cells": [
  {
   "cell_type": "code",
   "id": "initial_id",
   "metadata": {
    "collapsed": true,
    "ExecuteTime": {
     "end_time": "2024-09-24T17:21:38.514856Z",
     "start_time": "2024-09-24T17:21:36.588252Z"
    }
   },
   "source": [
    "from src.python_files.manual_clustering import get_clustering_genres\n",
    "from sklearn.preprocessing import MultiLabelBinarizer\n",
    "import pandas as pd\n",
    "\n",
    "# Reading data from a CSV file and standardizing it\n",
    "data = pd.read_csv('../data.csv')[:-10]\n",
    "\n",
    "data[\"popularity\"] = data[\"popularity\"].apply(lambda pop: pop/100)\n",
    "data[\"tempo\"] = data[\"tempo\"].apply(lambda tpo: tpo/100)\n",
    "data[\"loudness\"] = data[\"loudness\"].apply(lambda ldn: ldn/40)\n",
    "data[\"popularity\"] = data[\"popularity\"].fillna(data[\"popularity\"].median())\n",
    "data[\"genres\"] = data[\"genres\"].fillna(\"\")\n",
    "data[\"genres\"] = data[\"genres\"].str.split(\".\")\n",
    "\n",
    "df = pd.DataFrame(data)\n",
    "\n",
    "df = df.drop(columns=['songname','artist', 'id'])\n",
    "\n",
    "# Define input features and target variables\n",
    "features = df[['time', 'dayofweek', 'month', 'temp']]\n",
    "targets = df.drop(columns=['time', 'dayofweek', 'month', 'temp', 'genres'])\n",
    "\n",
    "# spotify_genre_seeds = get_genres()['genres']\n",
    "\n",
    "# gets labels of genres\n",
    "spotify_genre_seeds = get_clustering_genres()\n",
    "\n",
    "# updates genre's col to include only certain seed labels\n",
    "for idx in range(len(data['genres'])):\n",
    "    song_genres = data['genres'][idx]\n",
    "    simplified_song_genres = []\n",
    "    for song_genre in song_genres:\n",
    "        for genre in spotify_genre_seeds:\n",
    "            if genre in song_genre:\n",
    "                simplified_song_genres.append(genre)\n",
    "    data.at[idx, 'genres'] = simplified_song_genres"
   ],
   "outputs": [],
   "execution_count": 1
  },
  {
   "metadata": {
    "ExecuteTime": {
     "end_time": "2024-09-24T17:21:45.414948Z",
     "start_time": "2024-09-24T17:21:38.518435Z"
    }
   },
   "cell_type": "code",
   "source": [
    "from src.python_files.num_predict import train_gradient_boosting_regressor\n",
    "from src.python_files.cat_predict import train_random_forest_classifier\n",
    "\n",
    "# turns genres into an array of 0s and 1s. 1 means the genre exists on that piece of data, 0 means it doesn't exist\n",
    "classifier_target = data['genres']\n",
    "mlb = MultiLabelBinarizer()\n",
    "classifier_target = mlb.fit_transform(classifier_target)\n",
    "classifier_target = pd.DataFrame(classifier_target, columns=mlb.classes_)\n",
    "\n",
    "# trains a model based on features variable to find expected genre\n",
    "model = train_random_forest_classifier(features, classifier_target)[0]\n",
    "\n",
    "# trains a model based on features + genre seeds to predict song characterstics\n",
    "\n",
    "features = pd.concat([features, classifier_target], axis=1)\n",
    "multi_output_gbr = train_gradient_boosting_regressor(features, targets)[0]"
   ],
   "id": "5f7a80a6ff17993f",
   "outputs": [],
   "execution_count": 2
  },
  {
   "metadata": {
    "ExecuteTime": {
     "end_time": "2024-09-24T17:21:45.577676Z",
     "start_time": "2024-09-24T17:21:45.517536Z"
    }
   },
   "cell_type": "code",
   "source": [
    "from src.python_files.record import get_weather_info, get_hour_info, get_weekday_info, get_month_info\n",
    "import nest_asyncio\n",
    "import asyncio\n",
    "\n",
    "nest_asyncio.apply()\n",
    "\n",
    "# gets current information\n",
    "\n",
    "temp = float(asyncio.run(get_weather_info()))\n",
    "time = float(get_hour_info())\n",
    "day = float(get_weekday_info())\n",
    "month = float(get_month_info())"
   ],
   "id": "834a2bef5c81c153",
   "outputs": [],
   "execution_count": 3
  },
  {
   "metadata": {
    "ExecuteTime": {
     "end_time": "2024-09-24T17:21:45.831379Z",
     "start_time": "2024-09-24T17:21:45.600935Z"
    }
   },
   "cell_type": "code",
   "source": [
    "import numpy as np\n",
    "\n",
    "# time, dow, month, temp\n",
    "cat_predict_value = pd.DataFrame([[time, day, month, temp]], columns=[\"time\", \"dayofweek\", \"month\", \"temp\"])\n",
    "\n",
    "# predicts which genres are most likely given current info\n",
    "class_predict = model.predict(cat_predict_value)\n",
    "\n",
    "# gives the probabilities of each of these genres\n",
    "probabilities = model.predict_proba(cat_predict_value)\n",
    "\n",
    "genre_prediction = []\n",
    "# idx, value\n",
    "top_prob = [0, 0]\n",
    "\n",
    "#adds genres to a list if the probability is bigger than a cutoff point\n",
    "prob_cutoff = .125\n",
    "\n",
    "for prob_idx in range(len(probabilities)):\n",
    "    if len(probabilities[prob_idx][0]) == 2 and probabilities[prob_idx][0][1] >= prob_cutoff:\n",
    "        if probabilities[prob_idx][0][1] > top_prob[1]:\n",
    "            top_prob = [prob_idx, probabilities[prob_idx][0][1]]\n",
    "        genre_prediction.append(1)\n",
    "    else:\n",
    "        genre_prediction.append(0)\n",
    "                            \n",
    "genre_prediction = np.array(genre_prediction).reshape(1, -1)\n",
    "\n",
    "genre_df = pd.DataFrame(genre_prediction, columns=mlb.classes_)\n",
    "\n",
    "# uses the prediction genre along with other features to predict song characteristics\n",
    "num_predict_value = pd.concat([pd.DataFrame([[time, day, month, temp]], columns=[\"time\", \"dayofweek\", \"month\", \"temp\"]), genre_df], axis=1)\n",
    "    \n",
    "# Make predictions\n",
    "y_pred = multi_output_gbr.predict(num_predict_value)\n",
    " \n",
    "genre_prediction_text = list(mlb.inverse_transform(genre_prediction)[0])\n",
    "top_predicted_genre = genre_df.columns[top_prob[0]]\n",
    "\n",
    "print(genre_prediction_text)\n"
   ],
   "id": "71212b1120c8bea2",
   "outputs": [
    {
     "name": "stdout",
     "output_type": "stream",
     "text": [
      "['alternative', 'hip hop', 'indie', 'pop']\n"
     ]
    }
   ],
   "execution_count": 4
  },
  {
   "metadata": {
    "ExecuteTime": {
     "end_time": "2024-09-24T17:22:17.273845Z",
     "start_time": "2024-09-24T17:21:45.862428Z"
    }
   },
   "cell_type": "code",
   "source": [
    "from src.python_files.manual_clustering import weight_genres, cluster_songs_by_genre\n",
    "from sklearn.preprocessing import MinMaxScaler\n",
    "\n",
    "# dataset of more songs to use\n",
    "dataset = pd.read_csv('../dataset.csv')\n",
    "\n",
    "# data = dataset\n",
    "# \n",
    "# dataset[\"popularity\"] = dataset[\"popularity\"].apply(lambda pop: pop/100)\n",
    "# dataset[\"tempo\"] = dataset[\"tempo\"].apply(lambda tpo: tpo/100)\n",
    "# dataset[\"loudness\"] = dataset[\"loudness\"].apply(lambda ldn: ldn/40)\n",
    "\n",
    "\n",
    "# columns of data important to predictions\n",
    "predicted_cols=['danceability', 'energy', 'loudness', 'speechiness', 'acousticness', 'instrumentalness', 'liveness', 'valence', 'tempo']\n",
    "\n",
    "cleaned_df = df.drop(['genres', 'temp', 'time', 'dayofweek', 'month', 'duration_ms', 'popularity'],axis=1)\n",
    "\n",
    "# scales from 0-1\n",
    "cleaned_df = MinMaxScaler().fit_transform(cleaned_df)\n",
    "\n",
    "cleaned_df = pd.DataFrame(cleaned_df)\n",
    "\n",
    "# Convert cleaned_df to NumPy array for faster operations\n",
    "cleaned_np = np.array(cleaned_df)\n",
    "\n",
    "# runs data clustering, creation of genre specific weights, gets a specific weight to be used given the top genre\n",
    "genre_song_dict = cluster_songs_by_genre(data)\n",
    "\n",
    "weighted_genres = weight_genres(genre_song_dict, cleaned_np, cleaned_df)\n",
    "\n",
    "prediction_weighting = weighted_genres[top_predicted_genre]\n",
    "\n",
    "song_similarity_dict = {}\n",
    "\n",
    "def calc_similarity_ratings(data):\n",
    "    \"\"\"\n",
    "    Calculates the similarity ratings for the given data.\n",
    "\n",
    "    :param data: The data to calculate similarity ratings for.\n",
    "    :return: The accuracy score, popularity threshold, and song artists.\n",
    "    \"\"\"\n",
    "    accuracy_score = 0\n",
    "    popularity_thresh = False\n",
    "    for col_idx in range(len(predicted_cols)):\n",
    "        # need to figure out how to do this for best results\n",
    "        if (y_pred[0][col_idx] > .5 and data[predicted_cols[col_idx]][i] > .5) or (y_pred[0][col_idx] < .5 and data[predicted_cols[col_idx]][i] < .5):\n",
    "            accuracy_score += abs(y_pred[0][col_idx] - data[predicted_cols[col_idx]][i]) * prediction_weighting[col_idx]\n",
    "        else:\n",
    "            accuracy_score += abs(pow(y_pred[0][col_idx] - data[predicted_cols[col_idx]][i], 2)) * prediction_weighting[col_idx]  \n",
    "    if data[\"popularity\"][i] > .5:\n",
    "        popularity_thresh = True\n",
    "    song_artists = data[\"artist\"][i]\n",
    "    \n",
    "    return accuracy_score, popularity_thresh, song_artists\n",
    "\n",
    "# makes a dict of songs and their similarity ratings\n",
    "for i in range(len(data[\"songname\"])):\n",
    "    if data[\"songname\"][i] not in song_similarity_dict.keys():\n",
    "        accuracy_score, popularity_thresh, song_artists = calc_similarity_ratings(data)\n",
    "        song_similarity_dict[data[\"songname\"][i]] = {\"accuracy\" : accuracy_score, \"popularity\" : popularity_thresh, \"artists\" : song_artists, \"data_idx\" : i}\n",
    "    "
   ],
   "id": "e1cc8bcb98dfbdc9",
   "outputs": [],
   "execution_count": 5
  },
  {
   "metadata": {
    "ExecuteTime": {
     "end_time": "2024-09-24T17:22:17.333328Z",
     "start_time": "2024-09-24T17:22:17.330229Z"
    }
   },
   "cell_type": "code",
   "source": [
    "def get_closest_song(drop_score):\n",
    "    \"\"\"\n",
    "    :param drop_score: the minimum score threshold for dropping a song\n",
    "    :return: a tuple containing the best song name and artist name, or \"DROP\" if the best score is below the drop_score\n",
    "\n",
    "    This function iterates through a dictionary of song similarity scores and returns the closest song based on the accuracy score. \n",
    "    The drop_score is used to determine whether the best song should be dropped. If the best_score is below the drop_score, \n",
    "    the function returns \"DROP\", otherwise it returns the best_song_name and best_artists_name.\n",
    "    \"\"\"\n",
    "    best_score = 10000\n",
    "    best_song_name = \"\"\n",
    "    best_artists_name = \"\"\n",
    "    \n",
    "    for songname in song_similarity_dict.keys():\n",
    "        \n",
    "        song = song_similarity_dict[songname]\n",
    "        \n",
    "        if song[\"accuracy\"] < best_score and songname not in best_names and song[\"popularity\"]:\n",
    "            best_score = song[\"accuracy\"]\n",
    "            best_song_name = songname\n",
    "            best_artists_name = song[\"artists\"]\n",
    "        \n",
    "    if best_score >= drop_score:\n",
    "        return \"DROP\", \"DROP\"\n",
    "    else:\n",
    "        return best_song_name, best_artists_name\n",
    "    "
   ],
   "id": "d43eda1ccc23e13e",
   "outputs": [],
   "execution_count": 6
  },
  {
   "metadata": {
    "ExecuteTime": {
     "end_time": "2024-09-24T17:22:17.394461Z",
     "start_time": "2024-09-24T17:22:17.388886Z"
    }
   },
   "cell_type": "code",
   "source": [
    "# sets the length of the playlist and how bad data has to get to not fill up to that point\n",
    "playlist_length = 25\n",
    "drop_score = 1\n",
    "\n",
    "best_names = []\n",
    "best_artists = []\n",
    "\n",
    "top_song, top_artist = get_closest_song(drop_score)    \n",
    "\n",
    "# gets the best songs according to the predictions and adds them to an arr\n",
    "for x in range(playlist_length):\n",
    "    best_song_name, best_artists_name = get_closest_song(drop_score)\n",
    "    \n",
    "    if best_song_name == \"DROP\":\n",
    "        break\n",
    "    \n",
    "    best_names.append(best_song_name)\n",
    "    best_artists.append(song_similarity_dict[best_song_name][\"artists\"])\n",
    "    \n",
    "print(best_names)"
   ],
   "id": "18717183930da5cc",
   "outputs": [
    {
     "name": "stdout",
     "output_type": "stream",
     "text": [
      "['Soundtrack for Your Backseat', 'Eventually', 'I Wish you Roses', 'Daddy Issues', 'Apocalypse', 'wonder if you care', 'New Sky', '90210 (feat. Kacy Hill)', 'My Tears Are Becoming A Sea', 'In A Good Way', 'Where Are You Going', 'Too Many Nights (feat. Don Toliver & with Future)', 'Rebuke', 'Pears', 'Empire Ants (feat. Little Dragon)', 'I Love You So', 'Tonight You Are Mine', 'Hamptons', 'Summertime In Paris', 'Beautiful Things', 'Shibuya (feat. Syd)', 'My Kind of Woman', 'Perfect Places', 'Go Away', 'Shattered Memories']\n"
     ]
    }
   ],
   "execution_count": 7
  },
  {
   "metadata": {
    "ExecuteTime": {
     "end_time": "2024-09-24T17:22:22.643024Z",
     "start_time": "2024-09-24T17:22:17.450534Z"
    }
   },
   "cell_type": "code",
   "source": [
    "import os\n",
    "from dotenv import load_dotenv\n",
    "from src.python_files.spotify_helper import update_playlist\n",
    "\n",
    "load_dotenv()\n",
    "\n",
    "# uploads the song to spotify\n",
    "\n",
    "playlist_id = os.getenv('PLAYLIST_ID')\n",
    "update_playlist(best_names, best_artists, playlist_id)\n",
    "\n",
    "# update_playlist(best_names, best_artists)"
   ],
   "id": "ef929317fd8f70c5",
   "outputs": [],
   "execution_count": 8
  },
  {
   "metadata": {
    "ExecuteTime": {
     "end_time": "2024-09-24T17:22:22.779527Z",
     "start_time": "2024-09-24T17:22:22.763795Z"
    }
   },
   "cell_type": "code",
   "source": [
    "from tabulate import tabulate\n",
    "\n",
    "# displays the data in a format easily readable\n",
    "\n",
    "RED = \"\\033[91m\"\n",
    "GREEN = \"\\033[92m\"\n",
    "RESET = \"\\033[0m\"\n",
    "\n",
    "pred_act = [[\"track\", \"accuracy\"], [\"\", \"0\"]]\n",
    "\n",
    "for col_idx in range(len(predicted_cols)):\n",
    "    pred_act[0].append(predicted_cols[col_idx])\n",
    "    pred_act[1].append(str(round(y_pred[0][col_idx], 3)))\n",
    "    \n",
    "outlier_dist = .07\n",
    "    \n",
    "for name in best_names:\n",
    "    r = song_similarity_dict[name][\"data_idx\"]\n",
    "    temp_arr = [round(song_similarity_dict[name][\"accuracy\"], 3)]\n",
    "    for c in predicted_cols:\n",
    "        cr_data = data[c][r]\n",
    "        if abs(float(pred_act[1][len(temp_arr) + 1]) - cr_data) < outlier_dist:\n",
    "            temp_arr.append(str(data[c][r]))\n",
    "        elif float(pred_act[1][len(temp_arr) + 1]) - cr_data > outlier_dist:\n",
    "            temp_arr.append(RED + str(data[c][r]) + RESET)\n",
    "        else:\n",
    "            temp_arr.append(GREEN + str(data[c][r]) + RESET)\n",
    "    temp_arr.insert(0, name[:20])\n",
    "    pred_act.append(temp_arr)\n",
    "        \n",
    "print(tabulate(pred_act, headers='firstrow', tablefmt='plain')) "
   ],
   "id": "b058c6a36d3a9520",
   "outputs": [
    {
     "name": "stdout",
     "output_type": "stream",
     "text": [
      "track                   accuracy    danceability    energy    loudness    speechiness    acousticness    instrumentalness    liveness    valence    tempo\n",
      "                           0               0.586     0.617    0.449           -0.22          0.087               0.519         0.095      0.267   0.516\n",
      "Soundtrack for Your        0.172           0.605     0.666   \u001B[91m-0.2184\u001B[0m           \u001B[92m0.0272\u001B[0m        \u001B[92m0.176\u001B[0m               \u001B[91m0.358\u001B[0m         0.143      \u001B[92m0.55\u001B[0m    \u001B[92m0.76003\u001B[0m\n",
      "Eventually                 0.186           \u001B[91m0.424\u001B[0m     0.615   \u001B[91m-0.155425\u001B[0m         \u001B[92m0.0325\u001B[0m        \u001B[91m0.0158\u001B[0m              \u001B[91m0.000389\u001B[0m      0.0844     \u001B[91m0.155\u001B[0m   \u001B[92m0.77935\u001B[0m\n",
      "I Wish you Roses           0.188           \u001B[91m0.469\u001B[0m     0.648   \u001B[91m-0.20765\u001B[0m          \u001B[92m0.0522\u001B[0m        \u001B[92m0.174\u001B[0m               \u001B[91m0.000905\u001B[0m      \u001B[92m0.179\u001B[0m      0.279   \u001B[92m0.71032\u001B[0m\n",
      "Daddy Issues               0.191           0.588     \u001B[91m0.521\u001B[0m   \u001B[91m-0.236525\u001B[0m         \u001B[92m0.0329\u001B[0m        0.0678              \u001B[91m0.149\u001B[0m         0.123      \u001B[92m0.337\u001B[0m   \u001B[92m0.85012\u001B[0m\n",
      "Apocalypse                 0.192           \u001B[91m0.369\u001B[0m     \u001B[91m0.468\u001B[0m   \u001B[91m-0.225325\u001B[0m         \u001B[92m0.0273\u001B[0m        0.0205              0.566         0.109      \u001B[91m0.18\u001B[0m    \u001B[92m0.94434\u001B[0m\n",
      "wonder if you care         0.194           \u001B[91m0.426\u001B[0m     0.67    \u001B[91m-0.223675\u001B[0m         \u001B[92m0.0353\u001B[0m        \u001B[91m2.15e-05\u001B[0m            \u001B[92m0.706\u001B[0m         0.124      \u001B[91m0.179\u001B[0m   \u001B[92m0.78487\u001B[0m\n",
      "New Sky                    0.195           0.602     0.651   \u001B[91m-0.173675\u001B[0m         \u001B[92m0.0382\u001B[0m        0.0593              \u001B[91m0.000998\u001B[0m      0.151      0.252   \u001B[92m0.8903\u001B[0m\n",
      "90210 (feat. Kacy Hi       0.198           \u001B[91m0.402\u001B[0m     \u001B[91m0.527\u001B[0m   \u001B[91m-0.168425\u001B[0m         \u001B[92m0.0917\u001B[0m        0.113               \u001B[91m8.48e-06\u001B[0m      0.105      0.31    \u001B[92m0.8142\u001B[0m\n",
      "My Tears Are Becomin       0.199           \u001B[91m0.194\u001B[0m     \u001B[91m0.376\u001B[0m   \u001B[91m-0.2839\u001B[0m           \u001B[92m0.0463\u001B[0m        0.11                \u001B[91m0.386\u001B[0m         \u001B[92m0.593\u001B[0m      \u001B[91m0.0723\u001B[0m  0.48637\n",
      "In A Good Way              0.199           0.587     \u001B[91m0.286\u001B[0m   \u001B[91m-0.220975\u001B[0m         \u001B[92m0.0315\u001B[0m        \u001B[92m0.185\u001B[0m               \u001B[91m0.0288\u001B[0m        \u001B[92m0.214\u001B[0m      0.302   \u001B[92m0.71123\u001B[0m\n",
      "Where Are You Going        0.201           \u001B[91m0.444\u001B[0m     0.583   \u001B[91m-0.203025\u001B[0m         \u001B[92m0.0259\u001B[0m        \u001B[92m0.5\u001B[0m                 \u001B[91m0.15\u001B[0m          0.105      0.258   \u001B[92m0.97492\u001B[0m\n",
      "Too Many Nights (fea       0.202           0.573     0.668   \u001B[91m-0.1089\u001B[0m           \u001B[92m0.0467\u001B[0m        \u001B[92m0.189\u001B[0m               \u001B[91m4.01e-05\u001B[0m      0.109      \u001B[91m0.145\u001B[0m   \u001B[92m0.87973\u001B[0m\n",
      "Rebuke                     0.203           0.606     0.622   \u001B[91m-0.134925\u001B[0m         \u001B[92m0.109\u001B[0m         \u001B[92m0.18\u001B[0m                \u001B[91m0\u001B[0m             0.0883     \u001B[92m0.581\u001B[0m   \u001B[92m0.86867\u001B[0m\n",
      "Pears                      0.204           0.607     0.599   \u001B[91m-0.162025\u001B[0m         \u001B[92m0.0558\u001B[0m        \u001B[92m0.534\u001B[0m               \u001B[91m0\u001B[0m             0.111      \u001B[91m0.192\u001B[0m   \u001B[92m0.82013\u001B[0m\n",
      "Empire Ants (feat. L       0.207           0.601     \u001B[92m0.772\u001B[0m   \u001B[91m-0.103425\u001B[0m         \u001B[92m0.031\u001B[0m         \u001B[92m0.181\u001B[0m               \u001B[91m0.0543\u001B[0m        0.0928     0.294   \u001B[92m0.99445\u001B[0m\n",
      "I Love You So              0.208           0.575     0.648   \u001B[91m-0.122275\u001B[0m         \u001B[92m0.0358\u001B[0m        \u001B[92m0.583\u001B[0m               \u001B[91m0\u001B[0m             0.115      \u001B[92m0.466\u001B[0m   \u001B[92m0.75977\u001B[0m\n",
      "Tonight You Are Mine       0.209           0.634     0.6     \u001B[91m-0.16655\u001B[0m          \u001B[92m0.0265\u001B[0m        \u001B[91m0.00203\u001B[0m             \u001B[91m0.00569\u001B[0m       0.0796     \u001B[92m0.64\u001B[0m    \u001B[92m0.90017\u001B[0m\n",
      "Hamptons                   0.216           0.533     \u001B[92m0.69\u001B[0m    \u001B[91m-0.1939\u001B[0m           \u001B[92m0.0939\u001B[0m        0.0548              0.557         \u001B[92m0.196\u001B[0m      \u001B[92m0.392\u001B[0m   \u001B[92m0.97623\u001B[0m\n",
      "Summertime In Paris        0.216           0.569     \u001B[92m0.86\u001B[0m    \u001B[91m-0.1029\u001B[0m           \u001B[92m0.043\u001B[0m         0.135               \u001B[91m0\u001B[0m             0.153      0.289   \u001B[92m0.90937\u001B[0m\n",
      "Beautiful Things           0.216           \u001B[91m0.472\u001B[0m     \u001B[91m0.471\u001B[0m   \u001B[91m-0.1423\u001B[0m           \u001B[92m0.0603\u001B[0m        0.151               \u001B[91m0\u001B[0m             0.14       0.219   \u001B[92m1.05029\u001B[0m\n",
      "Shibuya (feat. Syd)        0.217           \u001B[92m0.76\u001B[0m      0.665   \u001B[91m-0.175525\u001B[0m         \u001B[92m0.0612\u001B[0m        0.105               \u001B[91m0.399\u001B[0m         0.0945     \u001B[92m0.808\u001B[0m   \u001B[92m0.92992\u001B[0m\n",
      "My Kind of Woman           0.217           \u001B[91m0.501\u001B[0m     \u001B[92m0.765\u001B[0m   \u001B[91m-0.176575\u001B[0m         \u001B[92m0.0281\u001B[0m        \u001B[91m0.00294\u001B[0m             0.49          \u001B[92m0.184\u001B[0m      \u001B[92m0.46\u001B[0m    \u001B[92m0.91771\u001B[0m\n",
      "Perfect Places             0.217           0.622     0.58    \u001B[91m-0.131825\u001B[0m         \u001B[92m0.0504\u001B[0m        \u001B[91m0.00241\u001B[0m             \u001B[91m2.95e-05\u001B[0m      0.112      \u001B[92m0.512\u001B[0m   \u001B[92m1.0441\u001B[0m\n",
      "Go Away                    0.217           \u001B[91m0.424\u001B[0m     \u001B[91m0.483\u001B[0m   \u001B[91m-0.156325\u001B[0m         \u001B[92m0.0475\u001B[0m        \u001B[92m0.707\u001B[0m               \u001B[91m0.00777\u001B[0m       0.135      \u001B[91m0.192\u001B[0m   \u001B[92m0.78033\u001B[0m\n",
      "Shattered Memories         0.218           \u001B[91m0.349\u001B[0m     \u001B[92m0.8\u001B[0m     \u001B[91m-0.154175\u001B[0m         \u001B[92m0.0509\u001B[0m        \u001B[92m0.218\u001B[0m               \u001B[91m0.119\u001B[0m         0.164      \u001B[91m0.138\u001B[0m   \u001B[92m0.81014\u001B[0m\n"
     ]
    }
   ],
   "execution_count": 9
  }
 ],
 "metadata": {
  "kernelspec": {
   "display_name": "Python 3",
   "language": "python",
   "name": "python3"
  },
  "language_info": {
   "codemirror_mode": {
    "name": "ipython",
    "version": 2
   },
   "file_extension": ".py",
   "mimetype": "text/x-python",
   "name": "python",
   "nbconvert_exporter": "python",
   "pygments_lexer": "ipython2",
   "version": "2.7.6"
  }
 },
 "nbformat": 4,
 "nbformat_minor": 5
}
