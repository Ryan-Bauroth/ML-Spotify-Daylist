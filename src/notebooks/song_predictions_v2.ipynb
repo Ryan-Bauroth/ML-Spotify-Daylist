{
 "cells": [
  {
   "cell_type": "code",
   "id": "initial_id",
   "metadata": {
    "collapsed": true,
    "ExecuteTime": {
     "end_time": "2024-09-22T01:33:43.733413Z",
     "start_time": "2024-09-22T01:33:41.928093Z"
    }
   },
   "source": [
    "from src.python_files.manual_clustering import get_clustering_genres\n",
    "from sklearn.preprocessing import MultiLabelBinarizer\n",
    "from src.python_files.spotify_helper import get_genres\n",
    "import pandas as pd\n",
    "\n",
    "# Reading data from a CSV file\n",
    "data = pd.read_csv('../data.csv')[:-10]\n",
    "\n",
    "data[\"popularity\"] = data[\"popularity\"].apply(lambda pop: pop/100)\n",
    "data[\"tempo\"] = data[\"tempo\"].apply(lambda tpo: tpo/100)\n",
    "data[\"loudness\"] = data[\"loudness\"].apply(lambda ldn: ldn/40)\n",
    "data[\"popularity\"] = data[\"popularity\"].fillna(data[\"popularity\"].median())\n",
    "data[\"genres\"] = data[\"genres\"].fillna(\"\")\n",
    "data[\"genres\"] = data[\"genres\"].str.split(\".\")\n",
    "\n",
    "df = pd.DataFrame(data)\n",
    "\n",
    "df = df.drop(columns=['songname','artist', 'id'])\n",
    "\n",
    "# Define input features and target variables\n",
    "features = df[['time', 'dayofweek', 'month', 'temp']]\n",
    "targets = df.drop(columns=['time', 'dayofweek', 'month', 'temp', 'genres'])\n",
    "\n",
    "# spotify_genre_seeds = get_genres()['genres']\n",
    "spotify_genre_seeds = get_clustering_genres()\n",
    "\n",
    "for idx in range(len(data['genres'])):\n",
    "    song_genres = data['genres'][idx]\n",
    "    simplified_song_genres = []\n",
    "    for song_genre in song_genres:\n",
    "        for genre in spotify_genre_seeds:\n",
    "            if genre in song_genre:\n",
    "                simplified_song_genres.append(genre)\n",
    "    data.at[idx, 'genres'] = simplified_song_genres"
   ],
   "outputs": [],
   "execution_count": 1
  },
  {
   "metadata": {
    "ExecuteTime": {
     "end_time": "2024-09-22T01:33:48.845035Z",
     "start_time": "2024-09-22T01:33:43.739159Z"
    }
   },
   "cell_type": "code",
   "source": [
    "from src.python_files.num_predict import train_gradient_boosting_regressor\n",
    "from src.python_files.cat_predict import train_random_forest_classifier\n",
    "\n",
    "\n",
    "classifier_target = data['genres']\n",
    "\n",
    "mlb = MultiLabelBinarizer()\n",
    "classifier_target = mlb.fit_transform(classifier_target)\n",
    "\n",
    "classifier_target = pd.DataFrame(classifier_target, columns=mlb.classes_)\n",
    "\n",
    "model = train_random_forest_classifier(features, classifier_target)[0]\n",
    "\n",
    "features = pd.concat([features, classifier_target], axis=1)\n",
    "\n",
    "multi_output_gbr = train_gradient_boosting_regressor(features, targets)[0]"
   ],
   "id": "5f7a80a6ff17993f",
   "outputs": [],
   "execution_count": 2
  },
  {
   "metadata": {
    "ExecuteTime": {
     "end_time": "2024-09-22T01:33:49.043172Z",
     "start_time": "2024-09-22T01:33:48.963577Z"
    }
   },
   "cell_type": "code",
   "source": [
    "from src.python_files.record import get_weather_info, get_hour_info, get_weekday_info, get_month_info\n",
    "import nest_asyncio\n",
    "import asyncio\n",
    "\n",
    "nest_asyncio.apply()\n",
    "\n",
    "temp = float(asyncio.run(get_weather_info()))\n",
    "time = float(get_hour_info())\n",
    "day = float(get_weekday_info())\n",
    "month = float(get_month_info())"
   ],
   "id": "834a2bef5c81c153",
   "outputs": [],
   "execution_count": 3
  },
  {
   "metadata": {
    "ExecuteTime": {
     "end_time": "2024-09-22T01:33:49.238005Z",
     "start_time": "2024-09-22T01:33:49.068439Z"
    }
   },
   "cell_type": "code",
   "source": [
    "import numpy as np\n",
    "\n",
    "# time, dow, month, temp\n",
    "cat_predict_value = pd.DataFrame([[time, day, month, temp]], columns=[\"time\", \"dayofweek\", \"month\", \"temp\"])\n",
    "\n",
    "class_predict = model.predict(cat_predict_value)\n",
    "\n",
    "probabilities = model.predict_proba(cat_predict_value)\n",
    "\n",
    "genre_prediction = []\n",
    "# idx, value\n",
    "top_prob = [0, 0]\n",
    "\n",
    "for prob_idx in range(len(probabilities)):\n",
    "    if len(probabilities[prob_idx][0]) == 2 and probabilities[prob_idx][0][1] > .2:\n",
    "        genre_prediction.append(1)\n",
    "    else:\n",
    "        genre_prediction.append(0)\n",
    "            \n",
    "genre_prediction = np.array(genre_prediction).reshape(1, -1)\n",
    "\n",
    "genre_df = pd.DataFrame(genre_prediction, columns=mlb.classes_)\n",
    "\n",
    "num_predict_value = pd.concat([pd.DataFrame([[time, day, month, temp]], columns=[\"time\", \"dayofweek\", \"month\", \"temp\"]), genre_df], axis=1)\n",
    "    \n",
    "# Make predictions\n",
    "y_pred = multi_output_gbr.predict(num_predict_value)\n",
    " \n",
    "print(mlb.inverse_transform(genre_prediction))\n"
   ],
   "id": "71212b1120c8bea2",
   "outputs": [
    {
     "name": "stdout",
     "output_type": "stream",
     "text": [
      "[('pop',)]\n"
     ]
    }
   ],
   "execution_count": 4
  },
  {
   "metadata": {
    "ExecuteTime": {
     "end_time": "2024-09-22T01:33:54.327539Z",
     "start_time": "2024-09-22T01:33:49.268752Z"
    }
   },
   "cell_type": "code",
   "source": [
    "dataset = pd.read_csv('../dataset.csv')\n",
    "\n",
    "predicted_cols=['popularity', 'danceability', 'energy', 'loudness', 'speechiness', 'acousticness', 'instrumentalness', 'liveness', 'valence', 'tempo', 'duration_ms']\n",
    "\n",
    "ignore_cols = [\"duration_ms\", \"popularity\", \"loudness\"]\n",
    "\n",
    "prediction_weighting = [\n",
    "    1, #popularity\n",
    "    1, #danceability\n",
    "    1.5, #energy\n",
    "    0, #loudness\n",
    "    1, #speechiness\n",
    "    .9, #acousticness\n",
    "    .9, #instrumentalness\n",
    "    .1, #liveness\n",
    "    1.5, #valence\n",
    "    2.5, #tempo\n",
    "    1 #duration ms\n",
    "]\n",
    "\n",
    "data = dataset\n",
    "\n",
    "dataset[\"popularity\"] = dataset[\"popularity\"].apply(lambda pop: pop/100)\n",
    "dataset[\"tempo\"] = dataset[\"tempo\"].apply(lambda tpo: tpo/100)\n",
    "dataset[\"loudness\"] = dataset[\"loudness\"].apply(lambda ldn: ldn/40)\n",
    "\n",
    "song_similarity_dict = {}\n",
    "\n",
    "def calc_similarity_ratings(data):\n",
    "        accuracy_score = 0\n",
    "        popularity_thresh = False\n",
    "        for col_idx in range(len(predicted_cols)):\n",
    "            if predicted_cols[col_idx] not in ignore_cols:\n",
    "                # need to figure out how to do this for best results\n",
    "                if (y_pred[0][col_idx] > .5 and data[predicted_cols[col_idx]][i] > .5) or (y_pred[0][col_idx] < .5 and data[predicted_cols[col_idx]][i] < .5):\n",
    "                    accuracy_score += abs(y_pred[0][col_idx] - data[predicted_cols[col_idx]][i]) * prediction_weighting[col_idx]\n",
    "                else:\n",
    "                    accuracy_score += abs(pow(y_pred[0][col_idx] - data[predicted_cols[col_idx]][i], 2)) * prediction_weighting[col_idx]  \n",
    "        if data[\"popularity\"][i] > .7:\n",
    "            popularity_thresh = True\n",
    "        song_artists = data[\"artist\"][i]\n",
    "        \n",
    "        return accuracy_score, popularity_thresh, song_artists\n",
    "\n",
    "for i in range(len(data[\"songname\"])):\n",
    "    if data[\"songname\"][i] not in song_similarity_dict.keys():\n",
    "        accuracy_score, popularity_thresh, song_artists = calc_similarity_ratings(data)\n",
    "        song_similarity_dict[data[\"songname\"][i]] = {\"accuracy\" : accuracy_score, \"popularity\" : popularity_thresh, \"artists\" : song_artists, \"data_idx\" : i}\n",
    "    "
   ],
   "id": "e1cc8bcb98dfbdc9",
   "outputs": [],
   "execution_count": 5
  },
  {
   "metadata": {
    "ExecuteTime": {
     "end_time": "2024-09-22T01:33:54.425629Z",
     "start_time": "2024-09-22T01:33:54.422128Z"
    }
   },
   "cell_type": "code",
   "source": [
    "def get_closest_song(drop_score):\n",
    "    best_score = 10000\n",
    "    best_song_name = \"\"\n",
    "    best_artists_name = \"\"\n",
    "    \n",
    "    for songname in song_similarity_dict.keys():\n",
    "        \n",
    "        song = song_similarity_dict[songname]\n",
    "        \n",
    "        if song[\"accuracy\"] < best_score and songname not in best_names and song[\"popularity\"]:\n",
    "            best_score = song[\"accuracy\"]\n",
    "            best_song_name = songname\n",
    "            best_artists_name = song[\"artists\"]\n",
    "        \n",
    "    if best_score >= drop_score:\n",
    "        return \"DROP\", \"DROP\"\n",
    "    else:\n",
    "        return best_song_name, best_artists_name\n",
    "    "
   ],
   "id": "d43eda1ccc23e13e",
   "outputs": [],
   "execution_count": 6
  },
  {
   "metadata": {
    "ExecuteTime": {
     "end_time": "2024-09-22T01:33:54.893554Z",
     "start_time": "2024-09-22T01:33:54.524353Z"
    }
   },
   "cell_type": "code",
   "source": [
    "from src.python_files.spotify_helper import get_recs\n",
    "from src.python_files.record import get_spotify_audio_features\n",
    "\n",
    "drop_score = 100\n",
    "playlist_length = 50\n",
    "\n",
    "best_names = []\n",
    "best_artists = []\n",
    "\n",
    "top_song, top_artist = get_closest_song(drop_score)\n",
    "\n",
    "# if top_song != \"DROP\":\n",
    "#     recs = get_recs(top_song, top_artist)\n",
    "#     rec_data = []\n",
    "#     for rec in recs:\n",
    "#         print(get_spotify_audio_features({\"playback\" : rec}))\n",
    "    \n",
    "\"\"\"\n",
    "    danceability\n",
    "energy\n",
    "speechiness\n",
    "acousticness\n",
    "instrumentalness\n",
    "liveness\n",
    "valence\n",
    "tempo\n",
    "\"\"\"\n",
    "    \n",
    "\n",
    "for x in range(playlist_length):\n",
    "    best_song_name, best_artists_name = get_closest_song(drop_score)\n",
    "    \n",
    "    if best_song_name == \"DROP\":\n",
    "        break\n",
    "    \n",
    "    # print(best_song_name + \" score: \" + str(best_score) + \" by \" + song_similarity_dict[best_song_name][\"artists\"])\n",
    "\n",
    "    best_names.append(best_song_name)\n",
    "    best_artists.append(song_similarity_dict[best_song_name][\"artists\"])\n",
    "    \n",
    "print(best_names)\n",
    "# print(best_artists)"
   ],
   "id": "18717183930da5cc",
   "outputs": [
    {
     "name": "stdout",
     "output_type": "stream",
     "text": [
      "['Breathe (In the Air)', 'this is what falling in love feels like', 'Tum Se Hi', 'Chamber Of Reflection', 'Mrs Magic', 'The Other Side Of Paradise', 'Lucky', 'Pal Pal Dil Ke Paas- Title Track', 'Water Fountain', 'What A Time (feat. Niall Horan)', 'Buttercup', 'Welcome Home, Son', 'Father And Son', 'Agar Tum Saath Ho', 'Agar Tum Saath Ho (From \"Tamasha\")', 'Let It Go - From \"Frozen\"/Soundtrack Version', 'Goodbye Yellow Brick Road - Remastered 2014', 'Hold My Girl', 'Mr Loverman', \"Rocket Man (I Think It's Going To Be A Long, Long Time)\", 'Rock and A Hard Place', 'Angie', 'Happy Together', 'Make You Say', 'I Say a Little Prayer', 'Comfortably Numb', 'Something - Remastered 2009', 'Vienna', 'Slow Dancing in a Burning Room', 'High Enough - RAC Remix', 'Take Me To Church', 'Die For You', 'we fell in love in october', 'Khairiyat', 'Pal', 'like i need u', 'Here Comes The Sun - Remastered 2009', 'Shayad', 'Serendipity - Full Length Edition', \"Shouldn't Be\", 'abcdefu', 'Killing Me Softly With His Song', 'Remember That Night?', 'cómo dormiste?', 'Budapest', 'Sex Sounds', 'Nutshell', 'Thinkin Bout You', 'Hrs & Hrs', 'High On Life (feat. Bonn)']\n"
     ]
    }
   ],
   "execution_count": 7
  },
  {
   "metadata": {
    "ExecuteTime": {
     "end_time": "2024-09-22T01:34:05.518724Z",
     "start_time": "2024-09-22T01:33:54.992609Z"
    }
   },
   "cell_type": "code",
   "source": [
    "import os\n",
    "from dotenv import load_dotenv\n",
    "from src.python_files.spotify_helper import update_playlist\n",
    "\n",
    "load_dotenv()\n",
    "\n",
    "playlist_id = os.getenv('PLAYLIST_ID')\n",
    "update_playlist(best_names, best_artists, playlist_id)\n",
    "\n",
    "# update_playlist(best_names, best_artists)"
   ],
   "id": "ef929317fd8f70c5",
   "outputs": [],
   "execution_count": 8
  },
  {
   "metadata": {
    "ExecuteTime": {
     "end_time": "2024-09-22T01:34:05.654309Z",
     "start_time": "2024-09-22T01:34:05.632792Z"
    }
   },
   "cell_type": "code",
   "source": [
    "from tabulate import tabulate\n",
    "\n",
    "RED = \"\\033[91m\"\n",
    "GREEN = \"\\033[92m\"\n",
    "RESET = \"\\033[0m\"\n",
    "\n",
    "pred_act = [[\"track\", \"accuracy\"], [\"\", \"0\"]]\n",
    "\n",
    "for col_idx in range(len(predicted_cols)):\n",
    "    if predicted_cols[col_idx] not in ignore_cols:\n",
    "        pred_act[0].append(predicted_cols[col_idx])\n",
    "        pred_act[1].append(str(round(y_pred[0][col_idx], 3)))\n",
    "    \n",
    "outlier_dist = .07\n",
    "    \n",
    "for name in best_names:\n",
    "    r = song_similarity_dict[name][\"data_idx\"]\n",
    "    temp_arr = [round(song_similarity_dict[name][\"accuracy\"], 3)]\n",
    "    for c in predicted_cols:\n",
    "        if c not in ignore_cols:\n",
    "            cr_data = data[c][r]\n",
    "            if abs(float(pred_act[1][len(temp_arr) + 1]) - cr_data) < outlier_dist:\n",
    "                temp_arr.append(str(data[c][r]))\n",
    "            elif float(pred_act[1][len(temp_arr) + 1]) - cr_data > outlier_dist:\n",
    "                temp_arr.append(RED + str(data[c][r]) + RESET)\n",
    "            else:\n",
    "                temp_arr.append(GREEN + str(data[c][r]) + RESET)\n",
    "    temp_arr.insert(0, name[:20])\n",
    "    pred_act.append(temp_arr)\n",
    "        \n",
    "print(tabulate(pred_act, headers='firstrow', tablefmt='plain')) "
   ],
   "id": "b058c6a36d3a9520",
   "outputs": [
    {
     "name": "stdout",
     "output_type": "stream",
     "text": [
      "track                   accuracy    danceability    energy    speechiness    acousticness    instrumentalness    liveness    valence    tempo\n",
      "                           0               0.611     0.506         0.056           0.389             0.407         0.216       0.393  1.295\n",
      "Breathe (In the Air)       0.425           \u001B[91m0.431\u001B[0m     \u001B[91m0.373\u001B[0m         0.0346          0.389             \u001B[92m0.728\u001B[0m         \u001B[91m0.143\u001B[0m       \u001B[91m0.253\u001B[0m  1.28153\n",
      "this is what falling       0.577           \u001B[91m0.422\u001B[0m     0.44          0.0544          \u001B[92m0.617\u001B[0m             \u001B[91m0\u001B[0m             \u001B[91m0.0837\u001B[0m      0.332  1.28934\n",
      "Tum Se Hi                  0.591           0.609     0.538         0.0273          0.328             \u001B[91m0\u001B[0m             \u001B[91m0.125\u001B[0m       \u001B[92m0.608\u001B[0m  1.30015\n",
      "Chamber Of Reflectio       0.599           \u001B[91m0.538\u001B[0m     0.557         0.0914          \u001B[91m0.262\u001B[0m             \u001B[92m0.914\u001B[0m         \u001B[91m0.102\u001B[0m       \u001B[92m0.506\u001B[0m  1.3103\n",
      "Mrs Magic                  0.614           \u001B[91m0.471\u001B[0m     \u001B[92m0.634\u001B[0m         0.031           \u001B[91m0.159\u001B[0m             0.365         \u001B[92m0.374\u001B[0m       0.366  1.32542\n",
      "The Other Side Of Pa       0.629           \u001B[92m0.689\u001B[0m     \u001B[91m0.338\u001B[0m         0.0629          0.349             \u001B[91m5.7e-05\u001B[0m       \u001B[91m0.0649\u001B[0m      \u001B[92m0.568\u001B[0m  1.28012\n",
      "Lucky                      0.632           0.625     \u001B[91m0.414\u001B[0m         0.0369          \u001B[91m0.294\u001B[0m             \u001B[91m0\u001B[0m             0.151       \u001B[92m0.669\u001B[0m  1.30088\n",
      "Pal Pal Dil Ke Paas-       0.645           0.56      0.512         0.0333          \u001B[92m0.592\u001B[0m             \u001B[91m0\u001B[0m             \u001B[91m0.056\u001B[0m       0.39   1.23991\n",
      "Water Fountain             0.661           \u001B[92m0.723\u001B[0m     0.504         0.0392          0.388             \u001B[91m7.4e-05\u001B[0m       \u001B[91m0.087\u001B[0m       \u001B[92m0.551\u001B[0m  1.33975\n",
      "What A Time (feat. N       0.664           \u001B[91m0.516\u001B[0m     0.467         0.0302          \u001B[92m0.662\u001B[0m             \u001B[91m0\u001B[0m             \u001B[91m0.0853\u001B[0m      0.386  1.32861\n",
      "Buttercup                  0.665           \u001B[92m0.705\u001B[0m     \u001B[91m0.373\u001B[0m         0.0384          \u001B[92m0.723\u001B[0m             \u001B[92m0.81\u001B[0m          \u001B[92m0.289\u001B[0m       \u001B[92m0.551\u001B[0m  \u001B[91m1.20046\u001B[0m\n",
      "Welcome Home, Son          0.681           0.587     0.497         0.0307          \u001B[92m0.723\u001B[0m             \u001B[92m0.782\u001B[0m         \u001B[91m0.142\u001B[0m       0.401  \u001B[92m1.44972\u001B[0m\n",
      "Father And Son             0.682           \u001B[91m0.495\u001B[0m     \u001B[91m0.326\u001B[0m         0.0365          \u001B[92m0.541\u001B[0m             \u001B[91m8.85e-05\u001B[0m      \u001B[91m0.0996\u001B[0m      0.371  1.36243\n",
      "Agar Tum Saath Ho          0.685           0.562     0.519         0.0326          \u001B[92m0.557\u001B[0m             \u001B[91m0.000268\u001B[0m      0.172       0.415  1.22925\n",
      "Agar Tum Saath Ho (F       0.685           0.562     0.519         0.0326          \u001B[92m0.557\u001B[0m             \u001B[91m0.000268\u001B[0m      0.172       0.415  1.22925\n",
      "Let It Go - From \"Fr       0.716           0.543     0.485         0.0305          \u001B[92m0.558\u001B[0m             \u001B[91m0\u001B[0m             \u001B[91m0.12\u001B[0m        0.371  \u001B[92m1.36961\u001B[0m\n",
      "Goodbye Yellow Brick       0.717           0.559     0.473         0.0279          0.446             \u001B[91m0.00141\u001B[0m       0.154       0.397  \u001B[91m1.21227\u001B[0m\n",
      "Hold My Girl               0.724           0.614     0.527         0.0302          \u001B[92m0.597\u001B[0m             \u001B[91m0\u001B[0m             \u001B[91m0.11\u001B[0m        0.354  \u001B[91m1.21941\u001B[0m\n",
      "Mr Loverman                0.742           0.639     0.526         0.0256          \u001B[91m0.245\u001B[0m             \u001B[91m2.43e-05\u001B[0m      0.25        \u001B[92m0.488\u001B[0m  1.30033\n",
      "Rocket Man (I Think        0.748           0.601     0.532         0.0286          0.432             \u001B[91m6.25e-06\u001B[0m      \u001B[91m0.0925\u001B[0m      0.341  \u001B[92m1.36571\u001B[0m\n",
      "Rock and A Hard Plac       0.749           0.582     0.568         0.0275          \u001B[92m0.577\u001B[0m             \u001B[91m0\u001B[0m             \u001B[91m0.105\u001B[0m       0.394  \u001B[91m1.21991\u001B[0m\n",
      "Angie                      0.77            \u001B[91m0.429\u001B[0m     0.554         0.0291          \u001B[92m0.67\u001B[0m              \u001B[91m0.000152\u001B[0m      \u001B[91m0.105\u001B[0m       0.407  1.36302\n",
      "Happy Together             0.773           0.584     \u001B[91m0.367\u001B[0m         0.0328          \u001B[92m0.55\u001B[0m              \u001B[91m1.38e-05\u001B[0m      \u001B[91m0.0818\u001B[0m      \u001B[92m0.588\u001B[0m  \u001B[91m1.20175\u001B[0m\n",
      "Make You Say               0.774           \u001B[92m0.687\u001B[0m     \u001B[92m0.61\u001B[0m          0.0499          0.351             \u001B[91m0\u001B[0m             0.175       \u001B[92m0.649\u001B[0m  1.2815\n",
      "I Say a Little Praye       0.783           0.592     \u001B[91m0.355\u001B[0m         0.0352          \u001B[92m0.478\u001B[0m             \u001B[91m0\u001B[0m             \u001B[91m0.0585\u001B[0m      \u001B[92m0.499\u001B[0m  1.33032\n",
      "Comfortably Numb           0.783           \u001B[91m0.472\u001B[0m     \u001B[91m0.366\u001B[0m         0.0286          \u001B[91m0.15\u001B[0m              \u001B[91m0.312\u001B[0m         \u001B[91m0.0837\u001B[0m      \u001B[91m0.171\u001B[0m  1.27163\n",
      "Something - Remaster       0.786           \u001B[91m0.396\u001B[0m     \u001B[91m0.338\u001B[0m         0.0304          \u001B[91m0.198\u001B[0m             \u001B[91m2.62e-06\u001B[0m      \u001B[91m0.138\u001B[0m       0.377  1.33522\n",
      "Vienna                     0.79            \u001B[91m0.532\u001B[0m     0.495         0.0343          \u001B[92m0.659\u001B[0m             \u001B[91m0\u001B[0m             \u001B[91m0.0754\u001B[0m      \u001B[91m0.308\u001B[0m  1.24936\n",
      "Slow Dancing in a Bu       0.79            0.667     \u001B[91m0.361\u001B[0m         0.0273          \u001B[92m0.575\u001B[0m             \u001B[91m0.00506\u001B[0m       \u001B[91m0.0805\u001B[0m      \u001B[91m0.29\u001B[0m   1.34018\n",
      "High Enough - RAC Re       0.795           \u001B[91m0.324\u001B[0m     \u001B[92m0.681\u001B[0m         0.0373          \u001B[91m0.24\u001B[0m              0.354         \u001B[91m0.0783\u001B[0m      \u001B[91m0.294\u001B[0m  1.32993\n",
      "Take Me To Church          0.801           0.566     \u001B[92m0.664\u001B[0m         0.0464          \u001B[92m0.634\u001B[0m             \u001B[91m0\u001B[0m             \u001B[91m0.116\u001B[0m       0.437  1.28945\n",
      "Die For You                0.804           0.582     0.525         0.0627          \u001B[91m0.111\u001B[0m             \u001B[91m0\u001B[0m             \u001B[91m0.134\u001B[0m       \u001B[92m0.51\u001B[0m   1.33249\n",
      "we fell in love in o       0.807           0.566     \u001B[91m0.366\u001B[0m         0.028           \u001B[91m0.113\u001B[0m             \u001B[91m0.181\u001B[0m         0.155       \u001B[91m0.237\u001B[0m  1.2996\n",
      "Khairiyat                  0.818           \u001B[91m0.534\u001B[0m     0.481         0.0412          \u001B[92m0.697\u001B[0m             \u001B[91m0\u001B[0m             \u001B[91m0.142\u001B[0m       \u001B[91m0.293\u001B[0m  1.24914\n",
      "Pal                        0.822           \u001B[91m0.51\u001B[0m      0.502         0.0325          \u001B[92m0.71\u001B[0m              \u001B[91m0\u001B[0m             \u001B[91m0.0708\u001B[0m      \u001B[91m0.321\u001B[0m  1.33885\n",
      "like i need u              0.822           \u001B[92m0.748\u001B[0m     0.465         0.0869          0.399             \u001B[91m0\u001B[0m             \u001B[92m0.294\u001B[0m       0.412  \u001B[91m1.19872\u001B[0m\n",
      "Here Comes The Sun -       0.824           0.557     0.54          0.0347          \u001B[91m0.0339\u001B[0m            \u001B[91m0.00248\u001B[0m       0.179       0.394  1.29171\n",
      "Shayad                     0.824           \u001B[91m0.483\u001B[0m     0.468         0.0341          \u001B[92m0.784\u001B[0m             \u001B[91m0\u001B[0m             0.152       \u001B[91m0.319\u001B[0m  1.35875\n",
      "Serendipity - Full L       0.825           \u001B[91m0.422\u001B[0m     \u001B[92m0.578\u001B[0m         0.0548          0.443             \u001B[91m0\u001B[0m             0.231       \u001B[91m0.227\u001B[0m  1.28921\n",
      "Shouldn't Be               0.825           0.647     \u001B[91m0.294\u001B[0m         0.0312          \u001B[92m0.728\u001B[0m             \u001B[91m0\u001B[0m             \u001B[91m0.123\u001B[0m       \u001B[92m0.323\u001B[0m  1.24999\n",
      "abcdefu                    0.826           \u001B[92m0.695\u001B[0m     0.54          0.0493          \u001B[91m0.299\u001B[0m             \u001B[91m0\u001B[0m             \u001B[92m0.367\u001B[0m       0.415  \u001B[91m1.21932\u001B[0m\n",
      "Killing Me Softly Wi       0.832           \u001B[91m0.476\u001B[0m     \u001B[91m0.381\u001B[0m         0.0342          \u001B[92m0.727\u001B[0m             \u001B[91m0\u001B[0m             \u001B[91m0.0614\u001B[0m      0.33   \u001B[91m1.21948\u001B[0m\n",
      "Remember That Night?       0.833           0.679     \u001B[92m0.61\u001B[0m          0.0305          \u001B[92m0.585\u001B[0m             \u001B[91m9.51e-05\u001B[0m      0.156       \u001B[92m0.554\u001B[0m  1.23978\n",
      "cómo dormiste?             0.837           0.627     \u001B[91m0.429\u001B[0m         \u001B[92m0.234\u001B[0m           \u001B[91m0.238\u001B[0m             \u001B[91m0\u001B[0m             \u001B[91m0.122\u001B[0m       \u001B[92m0.565\u001B[0m  1.26426\n",
      "Budapest                   0.838           \u001B[92m0.717\u001B[0m     0.455         0.0276          \u001B[91m0.0846\u001B[0m            \u001B[91m0\u001B[0m             \u001B[91m0.11\u001B[0m        0.389  1.27812\n",
      "Sex Sounds                 0.84            \u001B[92m0.857\u001B[0m     \u001B[91m0.427\u001B[0m         0.112           \u001B[91m0.281\u001B[0m             \u001B[91m0\u001B[0m             \u001B[91m0.108\u001B[0m       0.366  1.30033\n",
      "Nutshell                   0.845           \u001B[91m0.384\u001B[0m     0.561         0.0296          0.373             \u001B[91m0.253\u001B[0m         \u001B[91m0.0775\u001B[0m      \u001B[91m0.159\u001B[0m  1.36136\n",
      "Thinkin Bout You           0.847           \u001B[92m0.721\u001B[0m     \u001B[91m0.339\u001B[0m         0.0532          0.409             \u001B[91m0.00153\u001B[0m       \u001B[91m0.0973\u001B[0m      \u001B[91m0.2\u001B[0m    1.2983\n",
      "Hrs & Hrs                  0.853           \u001B[91m0.523\u001B[0m     0.521         \u001B[92m0.159\u001B[0m           \u001B[92m0.607\u001B[0m             \u001B[91m0\u001B[0m             \u001B[91m0.107\u001B[0m       \u001B[92m0.661\u001B[0m  1.33953\n",
      "High On Life (feat.        0.855           \u001B[91m0.414\u001B[0m     0.486         0.0311          \u001B[91m0.0129\u001B[0m            \u001B[91m0\u001B[0m             \u001B[91m0.111\u001B[0m       0.368  1.28038\n"
     ]
    }
   ],
   "execution_count": 9
  }
 ],
 "metadata": {
  "kernelspec": {
   "display_name": "Python 3",
   "language": "python",
   "name": "python3"
  },
  "language_info": {
   "codemirror_mode": {
    "name": "ipython",
    "version": 2
   },
   "file_extension": ".py",
   "mimetype": "text/x-python",
   "name": "python",
   "nbconvert_exporter": "python",
   "pygments_lexer": "ipython2",
   "version": "2.7.6"
  }
 },
 "nbformat": 4,
 "nbformat_minor": 5
}
