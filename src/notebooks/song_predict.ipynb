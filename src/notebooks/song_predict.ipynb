{
 "cells": [
  {
   "cell_type": "code",
   "id": "initial_id",
   "metadata": {
    "collapsed": true,
    "ExecuteTime": {
     "end_time": "2024-09-16T17:36:47.987124Z",
     "start_time": "2024-09-16T17:36:46.797454Z"
    }
   },
   "source": [
    "from sklearn.metrics import accuracy_score\n",
    "from sklearn.preprocessing import MultiLabelBinarizer\n",
    "import pandas as pd\n",
    "\n",
    "# Reading data from a CSV file\n",
    "data = pd.read_csv('../data.csv')\n",
    "\n",
    "data[\"popularity\"] = data[\"popularity\"].apply(lambda pop: pop/100)\n",
    "data[\"tempo\"] = data[\"tempo\"].apply(lambda tpo: tpo/100)\n",
    "data[\"loudness\"] = data[\"loudness\"].apply(lambda ldn: ldn/40)\n",
    "data[\"popularity\"] = data[\"popularity\"].fillna(data[\"popularity\"].median())\n",
    "data[\"genres\"] = data[\"genres\"].fillna(\"\")\n",
    "data[\"genres\"] = data[\"genres\"].str.split(\".\")\n",
    "\n",
    "df = pd.DataFrame(data)[:-10]\n",
    "\n",
    "df = df.drop(columns=['songname','artist', 'id'])\n",
    "\n",
    "# Define input features and target variables\n",
    "features = df[['time', 'dayofweek', 'month', 'temp']]\n",
    "targets = df.drop(columns=['time', 'dayofweek', 'month', 'temp', 'genres'])\n",
    "\n",
    "classifier_target = df['genres']\n",
    "\n",
    "mlb = MultiLabelBinarizer()\n",
    "classifier_target = mlb.fit_transform(classifier_target)"
   ],
   "outputs": [],
   "execution_count": 1
  },
  {
   "metadata": {
    "ExecuteTime": {
     "end_time": "2024-09-16T17:37:17.135827Z",
     "start_time": "2024-09-16T17:36:48.006717Z"
    }
   },
   "cell_type": "code",
   "source": [
    "from sklearn.preprocessing import LabelEncoder\n",
    "from src.python_files.num_predict import train_gradient_boosting_regressor\n",
    "from src.python_files.cat_predict import train_random_forest_classifier\n",
    "\n",
    "model = train_random_forest_classifier(features, classifier_target)[0]\n",
    "\n",
    "genres_arr = []\n",
    "for item in df['genres']:\n",
    "    genres_arr.append(item[0])\n",
    "le = LabelEncoder()\n",
    "genres_encoded = le.fit_transform(genres_arr)\n",
    "features.insert(4, 'genres', genres_encoded)\n",
    "\n",
    "multi_output_gbr = train_gradient_boosting_regressor(features, targets)[0]"
   ],
   "id": "5f7a80a6ff17993f",
   "outputs": [],
   "execution_count": 2
  },
  {
   "metadata": {
    "ExecuteTime": {
     "end_time": "2024-09-16T17:37:17.451829Z",
     "start_time": "2024-09-16T17:37:17.262411Z"
    }
   },
   "cell_type": "code",
   "source": [
    "from src.python_files.record import get_weather_info, get_hour_info, get_weekday_info, get_month_info\n",
    "import nest_asyncio\n",
    "import asyncio\n",
    "\n",
    "nest_asyncio.apply()\n",
    "\n",
    "temp = float(asyncio.run(get_weather_info()))\n",
    "time = float(get_hour_info())\n",
    "day = float(get_weekday_info())\n",
    "month = float(get_month_info())"
   ],
   "id": "834a2bef5c81c153",
   "outputs": [],
   "execution_count": 3
  },
  {
   "metadata": {
    "ExecuteTime": {
     "end_time": "2024-09-16T17:37:18.975161Z",
     "start_time": "2024-09-16T17:37:17.476524Z"
    }
   },
   "cell_type": "code",
   "source": [
    "from rapidfuzz import fuzz\n",
    "\n",
    "# time, dow, month, temp\n",
    "cat_predict_value = pd.DataFrame([[time, day, month, temp]], columns=[\"time\", \"dayofweek\", \"month\", \"temp\"])\n",
    "\n",
    "class_predict = model.predict(cat_predict_value)\n",
    "\n",
    "probabilities = model.predict_proba(cat_predict_value)\n",
    "\n",
    "top_probs_idx = []\n",
    "# idx, value\n",
    "top_prob = [0, 0]\n",
    "\n",
    "for prob_idx in range(len(probabilities)):\n",
    "    if len(probabilities[prob_idx][0]) == 2 and probabilities[prob_idx][0][1] > .1:\n",
    "        top_probs_idx.append(prob_idx)\n",
    "        if top_prob[1] < probabilities[prob_idx][0][1] and mlb.classes_[prob_idx] != \"\":\n",
    "            top_prob[1] = probabilities[prob_idx][0][1]\n",
    "            top_prob[0] = prob_idx\n",
    "            \n",
    "comparison_cats = []\n",
    "\n",
    "for idx in top_probs_idx:\n",
    "    if mlb.classes_[idx] == \"\":\n",
    "        continue\n",
    "    print(mlb.classes_[idx])\n",
    "    print(fuzz.token_set_ratio(mlb.classes_[top_prob[0]], mlb.classes_[idx]))\n",
    "    if fuzz.token_set_ratio(mlb.classes_[top_prob[0]], mlb.classes_[idx]) >= 10:\n",
    "        comparison_cats.append(mlb.classes_[idx])\n",
    "\n",
    "num_predict_cats = le.transform([comparison_cats[0]])\n",
    "    \n",
    "num_predict_value = pd.DataFrame([[time, day, month, temp, num_predict_cats]], columns=[\"time\", \"dayofweek\", \"month\", \"temp\", \"genres\"])    \n",
    "\n",
    "# Make predictions\n",
    "y_pred = multi_output_gbr.predict(num_predict_value)\n",
    " \n",
    "print(comparison_cats)\n",
    "# print(y_pred)\n",
    "# print((df.drop(columns=['time', 'dayofweek', 'month', 'temp', 'genres'])).keys())\n"
   ],
   "id": "71212b1120c8bea2",
   "outputs": [
    {
     "name": "stdout",
     "output_type": "stream",
     "text": [
      " alt z\n",
      "100.0\n",
      "hip hop\n",
      "16.66666666666667\n",
      "indie hip hop\n",
      "11.111111111111114\n",
      "indie r&b\n",
      "14.285714285714292\n",
      "pop\n",
      "0.0\n",
      "rap\n",
      "25.0\n",
      "[' alt z', 'hip hop', 'indie hip hop', 'indie r&b', 'rap']\n"
     ]
    }
   ],
   "execution_count": 4
  },
  {
   "metadata": {
    "ExecuteTime": {
     "end_time": "2024-09-16T17:37:19.432112Z",
     "start_time": "2024-09-16T17:37:19.037476Z"
    }
   },
   "cell_type": "code",
   "source": [
    "dataset = pd.read_csv('../dataset.csv')\n",
    "\n",
    "predicted_cols=['popularity', 'danceability', 'energy', 'loudness', 'speechiness', 'acousticness', 'instrumentalness', 'liveness', 'valence', 'tempo', 'duration_ms']\n",
    "\n",
    "ignore_cols = [\"duration_ms\", \"popularity\", \"loudness\"]\n",
    "\n",
    "prediction_weighting = [\n",
    "    1, #popularity\n",
    "    1, #danceability\n",
    "    1.5, #energy\n",
    "    0, #loudness\n",
    "    1, #speechiness\n",
    "    .9, #acousticness\n",
    "    .9, #instrumentalness\n",
    "    .1, #liveness\n",
    "    1.5, #valence\n",
    "    2.5, #tempo\n",
    "    1 #duration ms\n",
    "]\n",
    "\n",
    "# data = dataset\n",
    "# \n",
    "# dataset[\"popularity\"] = dataset[\"popularity\"].apply(lambda pop: pop/100)\n",
    "# dataset[\"tempo\"] = dataset[\"tempo\"].apply(lambda tpo: tpo/100)\n",
    "# dataset[\"loudness\"] = dataset[\"loudness\"].apply(lambda ldn: ldn/40)\n",
    "\n",
    "song_similarity_dict = {}\n",
    "\n",
    "def calc_similarity_ratings(data):\n",
    "        accuracy_score = 0\n",
    "        intersection = False\n",
    "        popularity_thresh = False\n",
    "        for col_idx in range(len(predicted_cols)):\n",
    "            if predicted_cols[col_idx] not in ignore_cols:\n",
    "                # need to figure out how to do this for best results\n",
    "                if (y_pred[0][col_idx] > .5 and data[predicted_cols[col_idx]][i] > .5) or (y_pred[0][col_idx] < .5 and data[predicted_cols[col_idx]][i] < .5):\n",
    "                    accuracy_score += abs(y_pred[0][col_idx] - data[predicted_cols[col_idx]][i]) * prediction_weighting[col_idx]\n",
    "                else:\n",
    "                    accuracy_score += abs(pow(y_pred[0][col_idx] - data[predicted_cols[col_idx]][i], 2)) * prediction_weighting[col_idx]\n",
    "        for genre in data[\"genres\"][i]:\n",
    "            for comparison_genre in comparison_cats: \n",
    "                if fuzz.token_set_ratio(genre, comparison_genre) >= 50:\n",
    "                    intersection = True      \n",
    "        if not intersection:\n",
    "            accuracy_score += 0\n",
    "        if data[\"popularity\"][i] > y_pred[0][predicted_cols.index(\"popularity\")] - 10:\n",
    "            popularity_thresh = True\n",
    "        song_artists = data[\"artist\"][i]\n",
    "        \n",
    "        return accuracy_score, intersection, popularity_thresh, song_artists\n",
    "\n",
    "for i in range(len(data[\"songname\"])):\n",
    "    if data[\"songname\"][i] not in song_similarity_dict.keys():\n",
    "        accuracy_score, intersection, popularity_thresh, song_artists = calc_similarity_ratings(data)\n",
    "        song_similarity_dict[data[\"songname\"][i]] = {\"accuracy\" : accuracy_score, \"intersection\" : intersection, \"popularity\" : popularity_thresh, \"artists\" : song_artists, \"data_idx\" : i}\n",
    "    "
   ],
   "id": "e1cc8bcb98dfbdc9",
   "outputs": [],
   "execution_count": 5
  },
  {
   "metadata": {
    "ExecuteTime": {
     "end_time": "2024-09-16T17:37:19.445927Z",
     "start_time": "2024-09-16T17:37:19.442317Z"
    }
   },
   "cell_type": "code",
   "source": [
    "def get_closest_song(drop_score):\n",
    "    best_score = 10000\n",
    "    best_song_name = \"\"\n",
    "    best_artists_name = \"\"\n",
    "    \n",
    "    for songname in song_similarity_dict.keys():\n",
    "        \n",
    "        song = song_similarity_dict[songname]\n",
    "\n",
    "        if song[\"accuracy\"] < best_score and songname not in best_names and song[\"popularity\"] - 10:\n",
    "            best_score = song[\"accuracy\"]\n",
    "            best_song_name = songname\n",
    "            best_artists_name = song[\"artists\"]\n",
    "        \n",
    "    if best_score >= drop_score:\n",
    "        return \"DROP\", \"DROP\"\n",
    "    else:\n",
    "        return best_song_name, best_artists_name\n",
    "    "
   ],
   "id": "d43eda1ccc23e13e",
   "outputs": [],
   "execution_count": 6
  },
  {
   "metadata": {
    "ExecuteTime": {
     "end_time": "2024-09-16T17:37:19.514164Z",
     "start_time": "2024-09-16T17:37:19.503092Z"
    }
   },
   "cell_type": "code",
   "source": [
    "from src.python_files.spotify_helper import get_recs\n",
    "from src.python_files.record import get_spotify_audio_features\n",
    "\n",
    "drop_score = 1\n",
    "playlist_length = 50\n",
    "\n",
    "best_names = []\n",
    "best_artists = []\n",
    "\n",
    "top_song, top_artist = get_closest_song(drop_score)\n",
    "\n",
    "# if top_song != \"DROP\":\n",
    "#     recs = get_recs(top_song, top_artist)\n",
    "#     rec_data = []\n",
    "#     for rec in recs:\n",
    "#         print(get_spotify_audio_features({\"playback\" : rec}))\n",
    "    \n",
    "\"\"\"\n",
    "    danceability\n",
    "energy\n",
    "speechiness\n",
    "acousticness\n",
    "instrumentalness\n",
    "liveness\n",
    "valence\n",
    "tempo\n",
    "\"\"\"\n",
    "    \n",
    "\n",
    "for x in range(playlist_length):\n",
    "    best_song_name, best_artists_name = get_closest_song(drop_score)\n",
    "    \n",
    "    if best_song_name == \"DROP\":\n",
    "        break\n",
    "    \n",
    "    # print(best_song_name + \" score: \" + str(best_score) + \" by \" + song_similarity_dict[best_song_name][\"artists\"])\n",
    "\n",
    "    best_names.append(best_song_name)\n",
    "    best_artists.append(song_similarity_dict[best_song_name][\"artists\"])\n",
    "    \n",
    "print(comparison_cats)\n",
    "print(best_names)\n",
    "# print(best_artists)"
   ],
   "id": "18717183930da5cc",
   "outputs": [
    {
     "name": "stdout",
     "output_type": "stream",
     "text": [
      "[' alt z', 'hip hop', 'indie hip hop', 'indie r&b', 'rap']\n",
      "['Cariño', 'Worth It.', 'Rollerblades', \"I Love You I'm Sorry\", 'Hush - Still Woozy Remix', 'us. (feat. Taylor Swift)', 'The Bird Song', 'Tu Corazón Es Mío...', \"I've Been In Love\", 'Passionfruit', 'C U Girl', 'Underdressed at the Symphony', 'Otro Atardecer', 'Risk', 'Musta Been a Ghost', 'Roommates', 'Dead Weight', 'In My Life - Remastered 2009', 'You (feat. Travis Scott)', 'Never Felt So Alone', 'I miss you I’m sorry', 'Amoeba', 'Leftovers', \"Let's Stay Together\", 'Matilda', 'Close The Door', 'Reckless & Sweet', 'safety', 'Where Are You Going', 'Pure', 'Reflections', 'People Watching', 'Linger - SiriusXM Session', 'Garden Kisses', 'Tadow', 'Everybody Wants To Rule The World', 'double take', 'FORFOURFORE', \"That's Life\", 'No One Noticed', 'SIDEKICK (with Joyce Wrice) - BONUS', 'Big Black Car', 'Slowly', 'lowkey', 'BIRDS OF A FEATHER', 'Beautiful Things', 'Sailor Song', 'Bruise', 'Smith & Westin', 'Jet Fuel']\n"
     ]
    }
   ],
   "execution_count": 7
  },
  {
   "metadata": {
    "ExecuteTime": {
     "end_time": "2024-09-16T17:37:37.077841Z",
     "start_time": "2024-09-16T17:37:19.582603Z"
    }
   },
   "cell_type": "code",
   "source": [
    "import os\n",
    "from dotenv import load_dotenv\n",
    "from src.python_files.spotify_helper import update_playlist\n",
    "\n",
    "load_dotenv()\n",
    "\n",
    "playlist_id = os.getenv('PLAYLIST_ID')\n",
    "update_playlist(best_names, best_artists, playlist_id)\n",
    "\n",
    "# update_playlist(best_names, best_artists)"
   ],
   "id": "ef929317fd8f70c5",
   "outputs": [],
   "execution_count": 8
  },
  {
   "metadata": {
    "ExecuteTime": {
     "end_time": "2024-09-16T17:37:37.206062Z",
     "start_time": "2024-09-16T17:37:37.180932Z"
    }
   },
   "cell_type": "code",
   "source": [
    "from tabulate import tabulate\n",
    "\n",
    "RED = \"\\033[91m\"\n",
    "GREEN = \"\\033[92m\"\n",
    "RESET = \"\\033[0m\"\n",
    "\n",
    "pred_act = [[\"track\", \"accuracy\"], [\"\", \"0\"]]\n",
    "\n",
    "for col_idx in range(len(predicted_cols)):\n",
    "    if predicted_cols[col_idx] not in ignore_cols:\n",
    "        pred_act[0].append(predicted_cols[col_idx])\n",
    "        pred_act[1].append(str(round(y_pred[0][col_idx], 3)))\n",
    "    \n",
    "outlier_dist = .07\n",
    "    \n",
    "for name in best_names:\n",
    "    r = song_similarity_dict[name][\"data_idx\"]\n",
    "    temp_arr = [round(song_similarity_dict[name][\"accuracy\"], 3)]\n",
    "    for c in predicted_cols:\n",
    "        if c not in ignore_cols:\n",
    "            cr_data = data[c][r]\n",
    "            if abs(float(pred_act[1][len(temp_arr) + 1]) - cr_data) < outlier_dist:\n",
    "                temp_arr.append(str(data[c][r]))\n",
    "            elif float(pred_act[1][len(temp_arr) + 1]) - cr_data > outlier_dist:\n",
    "                temp_arr.append(RED + str(data[c][r]) + RESET)\n",
    "            else:\n",
    "                temp_arr.append(GREEN + str(data[c][r]) + RESET)\n",
    "    temp_arr.insert(0, name[:20])\n",
    "    pred_act.append(temp_arr)\n",
    "        \n",
    "print(tabulate(pred_act, headers='firstrow', tablefmt='plain')) "
   ],
   "id": "b058c6a36d3a9520",
   "outputs": [
    {
     "name": "stdout",
     "output_type": "stream",
     "text": [
      "track                   accuracy    danceability    energy    speechiness    acousticness    instrumentalness    liveness    valence    tempo\n",
      "                           0               0.566     0.547         0.055            0.416            0.119         0.148       0.378  1.104\n",
      "Cariño                     0.411           \u001B[92m0.646\u001B[0m     \u001B[91m0.47\u001B[0m          0.0284           0.4              \u001B[91m0.0348\u001B[0m        0.11        \u001B[92m0.651\u001B[0m  1.13995\n",
      "Worth It.                  0.414           \u001B[92m0.736\u001B[0m     0.483         0.0682           \u001B[92m0.505\u001B[0m            \u001B[91m1.39e-05\u001B[0m      \u001B[92m0.351\u001B[0m       \u001B[92m0.606\u001B[0m  1.09932\n",
      "Rollerblades               0.443           0.566     \u001B[91m0.448\u001B[0m         0.0799           \u001B[92m0.54\u001B[0m             \u001B[91m7.22e-05\u001B[0m      0.0956      \u001B[91m0.199\u001B[0m  1.10802\n",
      "I Love You I'm Sorry       0.446           0.53      \u001B[91m0.406\u001B[0m         0.033            \u001B[92m0.656\u001B[0m            \u001B[91m0\u001B[0m             0.133       0.338  1.1594\n",
      "Hush - Still Woozy R       0.471           \u001B[92m0.708\u001B[0m     0.554         0.0311           0.403            \u001B[91m0.0428\u001B[0m        0.126       \u001B[92m0.564\u001B[0m  1.03999\n",
      "us. (feat. Taylor Sw       0.484           0.533     0.553         0.0296           \u001B[92m0.498\u001B[0m            \u001B[91m0\u001B[0m             0.0911      0.391  \u001B[91m1.02043\u001B[0m\n",
      "The Bird Song              0.503           \u001B[91m0.453\u001B[0m     0.546         0.0469           \u001B[92m0.767\u001B[0m            \u001B[91m0\u001B[0m             0.0814      \u001B[92m0.654\u001B[0m  1.16053\n",
      "Tu Corazón Es Mío...       0.504           \u001B[92m0.696\u001B[0m     0.57          0.0289           \u001B[91m0.321\u001B[0m            \u001B[91m1.44e-05\u001B[0m      0.15        0.385  1.06032\n",
      "I've Been In Love          0.504           \u001B[92m0.679\u001B[0m     0.506         0.0671           0.421            \u001B[91m0.00216\u001B[0m       \u001B[92m0.434\u001B[0m       \u001B[92m0.588\u001B[0m  1.14967\n",
      "Passionfruit               0.507           \u001B[92m0.809\u001B[0m     \u001B[91m0.463\u001B[0m         0.0396           \u001B[91m0.256\u001B[0m            0.085         0.109       0.364  1.1198\n",
      "C U Girl                   0.517           \u001B[91m0.414\u001B[0m     \u001B[91m0.473\u001B[0m         0.116            \u001B[92m0.663\u001B[0m            0.0523        0.128       0.409  \u001B[91m1\u001B[0m\n",
      "Underdressed at the        0.544           0.598     \u001B[91m0.372\u001B[0m         0.0274           0.479            \u001B[91m6.54e-06\u001B[0m      0.116       0.432  \u001B[92m1.1802\u001B[0m\n",
      "Otro Atardecer             0.544           \u001B[92m0.777\u001B[0m     0.595         0.0375           \u001B[92m0.59\u001B[0m             \u001B[91m0.00139\u001B[0m       \u001B[91m0.0669\u001B[0m      \u001B[92m0.546\u001B[0m  1.0802\n",
      "Risk                       0.556           \u001B[92m0.727\u001B[0m     0.491         0.0592           \u001B[92m0.498\u001B[0m            \u001B[91m0\u001B[0m             0.133       \u001B[92m0.471\u001B[0m  1.13027\n",
      "Musta Been a Ghost         0.558           \u001B[92m0.835\u001B[0m     0.546         0.0717           \u001B[92m0.599\u001B[0m            \u001B[91m0\u001B[0m             \u001B[91m0.0752\u001B[0m      \u001B[92m0.542\u001B[0m  1.07013\n",
      "Roommates                  0.558           \u001B[92m0.755\u001B[0m     \u001B[91m0.292\u001B[0m         0.0311           \u001B[92m0.619\u001B[0m            \u001B[91m1.34e-06\u001B[0m      0.114       0.437  1.10005\n",
      "Dead Weight                0.566           \u001B[92m0.643\u001B[0m     0.492         0.0387           \u001B[91m0.181\u001B[0m            \u001B[91m0.033\u001B[0m         \u001B[92m0.798\u001B[0m       \u001B[92m0.601\u001B[0m  1.07954\n",
      "In My Life - Remaste       0.57            \u001B[92m0.688\u001B[0m     \u001B[91m0.435\u001B[0m         0.0323           0.449            \u001B[91m0\u001B[0m             0.113       0.435  \u001B[91m1.03239\u001B[0m\n",
      "You (feat. Travis Sc       0.571           \u001B[92m0.782\u001B[0m     0.528         0.0532           0.409            \u001B[91m7.89e-05\u001B[0m      0.0999      0.389  \u001B[92m1.17977\u001B[0m\n",
      "Never Felt So Alone        0.577           \u001B[91m0.436\u001B[0m     \u001B[91m0.409\u001B[0m         0.0533           \u001B[92m0.499\u001B[0m            \u001B[91m0.000166\u001B[0m      \u001B[92m0.38\u001B[0m        0.363  \u001B[91m0.98357\u001B[0m\n",
      "I miss you I’m sorry       0.582           \u001B[91m0.445\u001B[0m     \u001B[91m0.455\u001B[0m         0.0575           \u001B[92m0.731\u001B[0m            \u001B[91m1.47e-06\u001B[0m      0.124       \u001B[91m0.151\u001B[0m  1.09885\n",
      "Amoeba                     0.588           \u001B[92m0.739\u001B[0m     0.491         0.027            \u001B[92m0.791\u001B[0m            \u001B[91m0.0366\u001B[0m        0.1         \u001B[92m0.707\u001B[0m  1.11008\n",
      "Leftovers                  0.591           \u001B[92m0.81\u001B[0m      \u001B[91m0.286\u001B[0m         0.0471           \u001B[92m0.52\u001B[0m             \u001B[91m0.00023\u001B[0m       0.0816      0.443  1.11032\n",
      "Let's Stay Together        0.596           \u001B[92m0.756\u001B[0m     \u001B[91m0.401\u001B[0m         0.0526           \u001B[92m0.582\u001B[0m            \u001B[91m0.011\u001B[0m         \u001B[91m0.0541\u001B[0m      \u001B[92m0.514\u001B[0m  \u001B[91m1.01954\u001B[0m\n",
      "Matilda                    0.597           0.507     \u001B[91m0.294\u001B[0m         0.04             \u001B[92m0.896\u001B[0m            \u001B[91m1.97e-05\u001B[0m      0.0966      0.386  1.14199\n",
      "Close The Door             0.612           0.617     0.51          0.0289           \u001B[92m0.64\u001B[0m             \u001B[91m0.000266\u001B[0m      0.116       \u001B[92m0.705\u001B[0m  1.16952\n",
      "Reckless & Sweet           0.633           \u001B[92m0.809\u001B[0m     0.549         0.0508           0.416            0.146         \u001B[91m0.0744\u001B[0m      0.405  \u001B[91m0.97993\u001B[0m\n",
      "safety                     0.634           \u001B[91m0.366\u001B[0m     \u001B[91m0.305\u001B[0m         0.0332           0.386            \u001B[91m0\u001B[0m             0.152       0.435  \u001B[91m0.99912\u001B[0m\n",
      "Where Are You Going        0.639           \u001B[91m0.444\u001B[0m     0.583         0.0259           \u001B[92m0.5\u001B[0m              0.15          0.105       \u001B[91m0.258\u001B[0m  \u001B[91m0.97492\u001B[0m\n",
      "Pure                       0.647           0.549     \u001B[91m0.426\u001B[0m         0.0887           \u001B[92m0.703\u001B[0m            \u001B[91m6.65e-05\u001B[0m      0.109       \u001B[91m0.212\u001B[0m  1.16032\n",
      "Reflections                0.648           \u001B[92m0.648\u001B[0m     0.594         0.0293           \u001B[91m0.114\u001B[0m            \u001B[91m0.0462\u001B[0m        0.116       \u001B[92m0.544\u001B[0m  1.13983\n",
      "People Watching            0.682           0.53      0.592         0.0534           0.381            \u001B[91m0\u001B[0m             \u001B[92m0.294\u001B[0m       \u001B[92m0.544\u001B[0m  \u001B[92m1.25721\u001B[0m\n",
      "Linger - SiriusXM Se       0.684           \u001B[91m0.404\u001B[0m     \u001B[91m0.393\u001B[0m         0.0262           \u001B[92m0.806\u001B[0m            \u001B[91m0.000443\u001B[0m      0.0938      0.403  \u001B[91m0.98217\u001B[0m\n",
      "Garden Kisses              0.688           \u001B[91m0.478\u001B[0m     \u001B[91m0.373\u001B[0m         0.0317           \u001B[92m0.915\u001B[0m            \u001B[91m6.36e-06\u001B[0m      0.128       0.354  \u001B[92m1.20129\u001B[0m\n",
      "Tadow                      0.696           \u001B[92m0.704\u001B[0m     0.487         0.0604           \u001B[92m0.669\u001B[0m            \u001B[91m8.64e-05\u001B[0m      0.111       0.313  \u001B[92m1.21726\u001B[0m\n",
      "Everybody Wants To R       0.701           \u001B[92m0.645\u001B[0m     \u001B[92m0.795\u001B[0m         0.0527           0.347            \u001B[91m0.00389\u001B[0m       0.104       \u001B[92m0.535\u001B[0m  1.12067\n",
      "double take                0.71            \u001B[92m0.656\u001B[0m     \u001B[91m0.436\u001B[0m         0.0744           \u001B[92m0.845\u001B[0m            \u001B[91m0\u001B[0m             \u001B[92m0.221\u001B[0m       \u001B[91m0.196\u001B[0m  1.09239\n",
      "FORFOURFORE                0.713           \u001B[91m0.342\u001B[0m     0.522         \u001B[92m0.184\u001B[0m            \u001B[92m0.972\u001B[0m            \u001B[91m0.0206\u001B[0m        \u001B[92m0.791\u001B[0m       \u001B[92m0.577\u001B[0m  1.09312\n",
      "That's Life                0.713           \u001B[92m0.754\u001B[0m     0.498         0.087            \u001B[92m0.51\u001B[0m             \u001B[91m0.0321\u001B[0m        0.102       \u001B[92m0.544\u001B[0m  \u001B[91m0.9611\u001B[0m\n",
      "No One Noticed             0.715           \u001B[92m0.705\u001B[0m     \u001B[91m0.339\u001B[0m         0.0278           \u001B[92m0.552\u001B[0m            0.0814        0.12        \u001B[92m0.457\u001B[0m  \u001B[91m0.97989\u001B[0m\n",
      "SIDEKICK (with Joyce       0.717           0.548     \u001B[92m0.622\u001B[0m         0.0629           \u001B[91m0.119\u001B[0m            \u001B[91m0.00832\u001B[0m       0.125       \u001B[92m0.677\u001B[0m  1.0743\n",
      "Big Black Car              0.728           0.6       \u001B[91m0.186\u001B[0m         0.0317           \u001B[92m0.909\u001B[0m            \u001B[91m0.00102\u001B[0m       0.104       \u001B[92m0.468\u001B[0m  1.10044\n",
      "Slowly                     0.73            0.588     0.479         0.0353           \u001B[92m0.601\u001B[0m            \u001B[91m0\u001B[0m             0.15        \u001B[91m0.28\u001B[0m   \u001B[91m0.94562\u001B[0m\n",
      "lowkey                     0.732           \u001B[92m0.752\u001B[0m     0.494         0.056            0.432            \u001B[91m0\u001B[0m             0.0869      \u001B[91m0.226\u001B[0m  \u001B[92m1.17901\u001B[0m\n",
      "BIRDS OF A FEATHER         0.738           \u001B[92m0.747\u001B[0m     0.507         0.0358           \u001B[91m0.2\u001B[0m              0.0608        0.117       0.438  1.04978\n",
      "Beautiful Things           0.742           \u001B[91m0.472\u001B[0m     \u001B[91m0.471\u001B[0m         0.0603           \u001B[91m0.151\u001B[0m            \u001B[91m0\u001B[0m             0.14        \u001B[91m0.219\u001B[0m  1.05029\n",
      "Sailor Song                0.748           \u001B[91m0.492\u001B[0m     \u001B[91m0.416\u001B[0m         0.0254           \u001B[92m0.686\u001B[0m            \u001B[91m8.61e-05\u001B[0m      0.203       \u001B[91m0.297\u001B[0m  \u001B[91m0.94926\u001B[0m\n",
      "Bruise                     0.749           \u001B[92m0.687\u001B[0m     \u001B[91m0.407\u001B[0m         0.0941           \u001B[91m0.292\u001B[0m            \u001B[91m0\u001B[0m             0.0845      \u001B[92m0.485\u001B[0m  1.03478\n",
      "Smith & Westin             0.751           0.502     0.547         0.0754           \u001B[92m0.487\u001B[0m            \u001B[91m1.94e-06\u001B[0m      \u001B[92m0.664\u001B[0m       \u001B[92m0.527\u001B[0m  \u001B[92m1.27817\u001B[0m\n",
      "Jet Fuel                   0.758           \u001B[92m0.791\u001B[0m     0.557         0.0698           \u001B[92m0.54\u001B[0m             \u001B[91m0\u001B[0m             0.103       \u001B[91m0.284\u001B[0m  \u001B[92m1.19973\u001B[0m\n"
     ]
    }
   ],
   "execution_count": 9
  }
 ],
 "metadata": {
  "kernelspec": {
   "display_name": "Python 3",
   "language": "python",
   "name": "python3"
  },
  "language_info": {
   "codemirror_mode": {
    "name": "ipython",
    "version": 2
   },
   "file_extension": ".py",
   "mimetype": "text/x-python",
   "name": "python",
   "nbconvert_exporter": "python",
   "pygments_lexer": "ipython2",
   "version": "2.7.6"
  }
 },
 "nbformat": 4,
 "nbformat_minor": 5
}
